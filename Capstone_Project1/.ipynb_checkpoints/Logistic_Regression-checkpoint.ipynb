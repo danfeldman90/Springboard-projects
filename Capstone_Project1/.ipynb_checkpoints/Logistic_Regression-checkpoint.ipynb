{
 "cells": [
  {
   "cell_type": "markdown",
   "metadata": {},
   "source": [
    "# Logistic Regression for Board Game Success\n",
    "\n",
    "After the initial EDA for my Capstone 1 project, I have cleaned up a dataset containing around 17.5K board games and can now attempt to build a classifier that identifies whether a board game will be successful. To do this, I will be splitting the target variable (Rating) into a binary classification of successful (1) and unsuccessful (0). Then, I can utilize sklearn's functionality to run a logistic regression to predict which category a given board game should fall under.\n",
    "\n",
    "## An initial cutoff point for success\n",
    "\n",
    "The first question I need to answer is where the correct cutoff point for success should be. That is to say, at what rating (or higher) is a board game considered successful? Normally, this would be an answer for a client to answer -- do board games of a given rating tend to make them more money than those of lower rating? Are they aiming for a given rating and wish to build with that rating in mind? \n",
    "\n",
    "Given that there is no specific client here, I'll have to choose based on the EDA I carried out in the previous notebook. Let's load in the data and take a look at the distribution of ratings in order to decide on a good cutoff point:"
   ]
  },
  {
   "cell_type": "code",
   "execution_count": 1,
   "metadata": {
    "collapsed": false
   },
   "outputs": [
    {
     "data": {
      "text/html": [
       "<div>\n",
       "<style scoped>\n",
       "    .dataframe tbody tr th:only-of-type {\n",
       "        vertical-align: middle;\n",
       "    }\n",
       "\n",
       "    .dataframe tbody tr th {\n",
       "        vertical-align: top;\n",
       "    }\n",
       "\n",
       "    .dataframe thead th {\n",
       "        text-align: right;\n",
       "    }\n",
       "</style>\n",
       "<table border=\"1\" class=\"dataframe\">\n",
       "  <thead>\n",
       "    <tr style=\"text-align: right;\">\n",
       "      <th></th>\n",
       "      <th>ID Num</th>\n",
       "      <th>Rating</th>\n",
       "      <th>Standard Dev</th>\n",
       "      <th>Weight</th>\n",
       "      <th>User Number</th>\n",
       "      <th>Min Playtime</th>\n",
       "      <th>Max Playtime</th>\n",
       "      <th>Year Published</th>\n",
       "      <th>Min Players</th>\n",
       "      <th>Max Players</th>\n",
       "    </tr>\n",
       "  </thead>\n",
       "  <tbody>\n",
       "    <tr>\n",
       "      <th>count</th>\n",
       "      <td>17521.000000</td>\n",
       "      <td>17521.000000</td>\n",
       "      <td>17521.000000</td>\n",
       "      <td>17521.000000</td>\n",
       "      <td>17521.000000</td>\n",
       "      <td>17521.000000</td>\n",
       "      <td>17521.000000</td>\n",
       "      <td>17521.000000</td>\n",
       "      <td>17521.000000</td>\n",
       "      <td>17521.000000</td>\n",
       "    </tr>\n",
       "    <tr>\n",
       "      <th>mean</th>\n",
       "      <td>79159.437190</td>\n",
       "      <td>5.742033</td>\n",
       "      <td>1.476525</td>\n",
       "      <td>2.148664</td>\n",
       "      <td>702.807774</td>\n",
       "      <td>68.374122</td>\n",
       "      <td>76.539524</td>\n",
       "      <td>2004.550768</td>\n",
       "      <td>2.028594</td>\n",
       "      <td>4.721078</td>\n",
       "    </tr>\n",
       "    <tr>\n",
       "      <th>std</th>\n",
       "      <td>74572.238468</td>\n",
       "      <td>0.401182</td>\n",
       "      <td>0.269365</td>\n",
       "      <td>0.805536</td>\n",
       "      <td>2669.578256</td>\n",
       "      <td>72.908630</td>\n",
       "      <td>80.111220</td>\n",
       "      <td>12.960938</td>\n",
       "      <td>0.637251</td>\n",
       "      <td>2.347712</td>\n",
       "    </tr>\n",
       "    <tr>\n",
       "      <th>min</th>\n",
       "      <td>1.000000</td>\n",
       "      <td>3.729410</td>\n",
       "      <td>0.192413</td>\n",
       "      <td>1.000000</td>\n",
       "      <td>23.000000</td>\n",
       "      <td>1.000000</td>\n",
       "      <td>1.000000</td>\n",
       "      <td>1903.000000</td>\n",
       "      <td>1.000000</td>\n",
       "      <td>1.000000</td>\n",
       "    </tr>\n",
       "    <tr>\n",
       "      <th>25%</th>\n",
       "      <td>8490.000000</td>\n",
       "      <td>5.523410</td>\n",
       "      <td>1.289610</td>\n",
       "      <td>1.500000</td>\n",
       "      <td>58.000000</td>\n",
       "      <td>30.000000</td>\n",
       "      <td>30.000000</td>\n",
       "      <td>2000.000000</td>\n",
       "      <td>2.000000</td>\n",
       "      <td>4.000000</td>\n",
       "    </tr>\n",
       "    <tr>\n",
       "      <th>50%</th>\n",
       "      <td>42220.000000</td>\n",
       "      <td>5.583170</td>\n",
       "      <td>1.439960</td>\n",
       "      <td>2.000000</td>\n",
       "      <td>124.000000</td>\n",
       "      <td>45.000000</td>\n",
       "      <td>60.000000</td>\n",
       "      <td>2009.000000</td>\n",
       "      <td>2.000000</td>\n",
       "      <td>4.000000</td>\n",
       "    </tr>\n",
       "    <tr>\n",
       "      <th>75%</th>\n",
       "      <td>149323.000000</td>\n",
       "      <td>5.781040</td>\n",
       "      <td>1.618190</td>\n",
       "      <td>2.684500</td>\n",
       "      <td>378.000000</td>\n",
       "      <td>90.000000</td>\n",
       "      <td>90.000000</td>\n",
       "      <td>2014.000000</td>\n",
       "      <td>2.000000</td>\n",
       "      <td>6.000000</td>\n",
       "    </tr>\n",
       "    <tr>\n",
       "      <th>max</th>\n",
       "      <td>249414.000000</td>\n",
       "      <td>8.622630</td>\n",
       "      <td>3.990480</td>\n",
       "      <td>5.000000</td>\n",
       "      <td>76405.000000</td>\n",
       "      <td>960.000000</td>\n",
       "      <td>999.000000</td>\n",
       "      <td>2019.000000</td>\n",
       "      <td>9.000000</td>\n",
       "      <td>20.000000</td>\n",
       "    </tr>\n",
       "  </tbody>\n",
       "</table>\n",
       "</div>"
      ],
      "text/plain": [
       "              ID Num        Rating  Standard Dev        Weight   User Number  \\\n",
       "count   17521.000000  17521.000000  17521.000000  17521.000000  17521.000000   \n",
       "mean    79159.437190      5.742033      1.476525      2.148664    702.807774   \n",
       "std     74572.238468      0.401182      0.269365      0.805536   2669.578256   \n",
       "min         1.000000      3.729410      0.192413      1.000000     23.000000   \n",
       "25%      8490.000000      5.523410      1.289610      1.500000     58.000000   \n",
       "50%     42220.000000      5.583170      1.439960      2.000000    124.000000   \n",
       "75%    149323.000000      5.781040      1.618190      2.684500    378.000000   \n",
       "max    249414.000000      8.622630      3.990480      5.000000  76405.000000   \n",
       "\n",
       "       Min Playtime  Max Playtime  Year Published   Min Players   Max Players  \n",
       "count  17521.000000  17521.000000    17521.000000  17521.000000  17521.000000  \n",
       "mean      68.374122     76.539524     2004.550768      2.028594      4.721078  \n",
       "std       72.908630     80.111220       12.960938      0.637251      2.347712  \n",
       "min        1.000000      1.000000     1903.000000      1.000000      1.000000  \n",
       "25%       30.000000     30.000000     2000.000000      2.000000      4.000000  \n",
       "50%       45.000000     60.000000     2009.000000      2.000000      4.000000  \n",
       "75%       90.000000     90.000000     2014.000000      2.000000      6.000000  \n",
       "max      960.000000    999.000000     2019.000000      9.000000     20.000000  "
      ]
     },
     "execution_count": 1,
     "metadata": {},
     "output_type": "execute_result"
    }
   ],
   "source": [
    "import numpy as np\n",
    "import pandas as pd\n",
    "import matplotlib.pyplot as plt\n",
    "import pickle\n",
    "\n",
    "with open('BGG_NoNaN_DF.pkl', 'rb') as f:\n",
    "    noNaN_DF = pickle.load(f)\n",
    "\n",
    "# For now, I'm going to work with the fully cleaned data (noNaN_DF), so I can use all of\n",
    "# the features.\n",
    "noNaN_DF.describe()"
   ]
  },
  {
   "cell_type": "code",
   "execution_count": 2,
   "metadata": {
    "collapsed": false
   },
   "outputs": [
    {
     "name": "stdout",
     "output_type": "stream",
     "text": [
      "<class 'pandas.core.frame.DataFrame'>\n",
      "Index: 17521 entries, Die Macher to Backyard Builders Treehouse\n",
      "Data columns (total 10 columns):\n",
      "ID Num            17521 non-null int64\n",
      "Rating            17521 non-null float64\n",
      "Standard Dev      17521 non-null float64\n",
      "Weight            17521 non-null float64\n",
      "User Number       17521 non-null float64\n",
      "Min Playtime      17521 non-null float64\n",
      "Max Playtime      17521 non-null float64\n",
      "Year Published    17521 non-null float64\n",
      "Min Players       17521 non-null float64\n",
      "Max Players       17521 non-null float64\n",
      "dtypes: float64(9), int64(1)\n",
      "memory usage: 1.5+ MB\n"
     ]
    }
   ],
   "source": [
    "noNaN_DF.info()"
   ]
  },
  {
   "cell_type": "code",
   "execution_count": 3,
   "metadata": {
    "collapsed": false
   },
   "outputs": [
    {
     "data": {
      "text/html": [
       "<div>\n",
       "<style scoped>\n",
       "    .dataframe tbody tr th:only-of-type {\n",
       "        vertical-align: middle;\n",
       "    }\n",
       "\n",
       "    .dataframe tbody tr th {\n",
       "        vertical-align: top;\n",
       "    }\n",
       "\n",
       "    .dataframe thead th {\n",
       "        text-align: right;\n",
       "    }\n",
       "</style>\n",
       "<table border=\"1\" class=\"dataframe\">\n",
       "  <thead>\n",
       "    <tr style=\"text-align: right;\">\n",
       "      <th></th>\n",
       "      <th>ID Num</th>\n",
       "      <th>Rating</th>\n",
       "      <th>Standard Dev</th>\n",
       "      <th>Weight</th>\n",
       "      <th>User Number</th>\n",
       "      <th>Min Playtime</th>\n",
       "      <th>Max Playtime</th>\n",
       "      <th>Year Published</th>\n",
       "      <th>Min Players</th>\n",
       "      <th>Max Players</th>\n",
       "    </tr>\n",
       "  </thead>\n",
       "  <tbody>\n",
       "    <tr>\n",
       "      <th>0.75</th>\n",
       "      <td>149323.0</td>\n",
       "      <td>5.78104</td>\n",
       "      <td>1.61819</td>\n",
       "      <td>2.6845</td>\n",
       "      <td>378.0</td>\n",
       "      <td>90.0</td>\n",
       "      <td>90.0</td>\n",
       "      <td>2014.0</td>\n",
       "      <td>2.0</td>\n",
       "      <td>6.0</td>\n",
       "    </tr>\n",
       "    <tr>\n",
       "      <th>0.80</th>\n",
       "      <td>161438.0</td>\n",
       "      <td>5.88009</td>\n",
       "      <td>1.66772</td>\n",
       "      <td>2.8636</td>\n",
       "      <td>529.0</td>\n",
       "      <td>90.0</td>\n",
       "      <td>120.0</td>\n",
       "      <td>2014.0</td>\n",
       "      <td>2.0</td>\n",
       "      <td>6.0</td>\n",
       "    </tr>\n",
       "    <tr>\n",
       "      <th>0.85</th>\n",
       "      <td>173074.0</td>\n",
       "      <td>6.03211</td>\n",
       "      <td>1.72724</td>\n",
       "      <td>3.0000</td>\n",
       "      <td>773.0</td>\n",
       "      <td>120.0</td>\n",
       "      <td>120.0</td>\n",
       "      <td>2015.0</td>\n",
       "      <td>2.0</td>\n",
       "      <td>6.0</td>\n",
       "    </tr>\n",
       "    <tr>\n",
       "      <th>0.90</th>\n",
       "      <td>186624.0</td>\n",
       "      <td>6.26280</td>\n",
       "      <td>1.81093</td>\n",
       "      <td>3.2381</td>\n",
       "      <td>1280.0</td>\n",
       "      <td>120.0</td>\n",
       "      <td>180.0</td>\n",
       "      <td>2016.0</td>\n",
       "      <td>3.0</td>\n",
       "      <td>8.0</td>\n",
       "    </tr>\n",
       "  </tbody>\n",
       "</table>\n",
       "</div>"
      ],
      "text/plain": [
       "        ID Num   Rating  Standard Dev  Weight  User Number  Min Playtime  \\\n",
       "0.75  149323.0  5.78104       1.61819  2.6845        378.0          90.0   \n",
       "0.80  161438.0  5.88009       1.66772  2.8636        529.0          90.0   \n",
       "0.85  173074.0  6.03211       1.72724  3.0000        773.0         120.0   \n",
       "0.90  186624.0  6.26280       1.81093  3.2381       1280.0         120.0   \n",
       "\n",
       "      Max Playtime  Year Published  Min Players  Max Players  \n",
       "0.75          90.0          2014.0          2.0          6.0  \n",
       "0.80         120.0          2014.0          2.0          6.0  \n",
       "0.85         120.0          2015.0          2.0          6.0  \n",
       "0.90         180.0          2016.0          3.0          8.0  "
      ]
     },
     "execution_count": 3,
     "metadata": {},
     "output_type": "execute_result"
    }
   ],
   "source": [
    "noNaN_DF.quantile([0.75, 0.8, 0.85, 0.9])"
   ]
  },
  {
   "cell_type": "markdown",
   "metadata": {},
   "source": [
    "As seen previously in the EDA notebook, the board game ratings are strongly peaked between 5 and 6. As such, it's not really possible to use an even number like 5 or 6 to be a cutoff for success. I think a good cutoff is the 80th percentile -- saying that if you are in the top 20% of all board games, you are a successful game. This is likely a very conservative value, but that's perhaps better for risk aversion.\n",
    "\n",
    "Now that we have a cutoff, I can alter the ratings to become a binary classification as mentioned earlier. Now, more specifically, any rating above the 80th percentile will be a success (1) and below will be not be a success (0)."
   ]
  },
  {
   "cell_type": "code",
   "execution_count": 4,
   "metadata": {
    "collapsed": false
   },
   "outputs": [
    {
     "name": "stdout",
     "output_type": "stream",
     "text": [
      "Die Macher                                                    True\n",
      "Dragonmaster                                                 False\n",
      "Samouraï                                                      True\n",
      "Tal der Könige                                               False\n",
      "Acquire                                                       True\n",
      "Mare Mediterraneum                                           False\n",
      "Castle City                                                   True\n",
      "Lords of Creation                                            False\n",
      "El Caballero                                                  True\n",
      "Elfenland                                                     True\n",
      "Babszüret                                                     True\n",
      "Ra                                                            True\n",
      "Catan                                                         True\n",
      "Basari                                                        True\n",
      "Contatos Cósmicos                                             True\n",
      "MarraCash                                                     True\n",
      "Button Broccoli                                              False\n",
      "Robo Rally                                                    True\n",
      "Drunter & Drüber                                              True\n",
      "Full Metal Planète                                            True\n",
      "Magic Realm                                                   True\n",
      "Divine Right                                                  True\n",
      "Twilight Imperium                                             True\n",
      "Battlemist                                                   False\n",
      "Age of Renaissance                                            True\n",
      "Supremacia                                                   False\n",
      "Deluxe Illuminati                                             True\n",
      "Terrain Vague                                                False\n",
      "Atlantis                                                      True\n",
      "Dark World                                                   False\n",
      "                                                             ...  \n",
      "Roll to the Top!                                             False\n",
      "CIV: Carta Impera Victoria                                   False\n",
      "ブレンドコーヒーラボ (Blend Coffee Lab.)                               False\n",
      "La Guerre des Boutons                                        False\n",
      "Troika                                                       False\n",
      "Blood on the Clocktower                                      False\n",
      "Get the MacGuffin                                            False\n",
      "Karak                                                        False\n",
      "Star Wars: Imperial Assault – Legends of the Alliance        False\n",
      "Space Base                                                   False\n",
      "Race for the Galaxy: New Worlds Promo                        False\n",
      "SiegeStorm                                                   False\n",
      "Dark Souls: The Card Game                                    False\n",
      "Here I Stand (500th Anniversary Reprint Edition)             False\n",
      "Verflucht!                                                   False\n",
      "Race to the New Found Land                                   False\n",
      "Ganz schön clever                                            False\n",
      "Escape the Dark Castle: Cult of the Death Knight             False\n",
      "Dobbelland                                                   False\n",
      "Goblin Grapple                                               False\n",
      "Clank!: The Mummy's Curse                                    False\n",
      "Coimbra                                                      False\n",
      "Kwiatki                                                      False\n",
      "Warhammer Underworlds: Shadespire – Nuée de Spiteclaw        False\n",
      "Warhammer Underworlds: Shadespire – Die Auserwählten Äxte    False\n",
      "Château Aventure                                             False\n",
      "You've Got Crabs                                             False\n",
      "Zombicide: Invader                                           False\n",
      "Thanos Rising: Avengers Infinity War                         False\n",
      "Backyard Builders Treehouse                                  False\n",
      "Name: Rating, Length: 17521, dtype: bool\n"
     ]
    }
   ],
   "source": [
    "ratings = noNaN_DF['Rating']\n",
    "ratings80 = np.percentile(noNaN_DF['Rating'], 80)\n",
    "target = ratings.apply(lambda x: x >= ratings80)\n",
    "print(target)"
   ]
  },
  {
   "cell_type": "code",
   "execution_count": 5,
   "metadata": {
    "collapsed": false
   },
   "outputs": [
    {
     "data": {
      "text/plain": [
       "0.75    0.0\n",
       "0.80    1.0\n",
       "Name: Rating, dtype: float64"
      ]
     },
     "execution_count": 5,
     "metadata": {},
     "output_type": "execute_result"
    }
   ],
   "source": [
    "target.quantile([0.75, 0.80])"
   ]
  },
  {
   "cell_type": "markdown",
   "metadata": {},
   "source": [
    "Now that I have the cutoff sucessfully implemented into a Pandas Series, and I have the ratings saved as its own series, I need to drop the target from the dataframe containing all of the features. At that stage, I'll have what I need for my logistic regression: a target series and a feature dataframe.\n",
    "\n",
    "There is one extra consideration that needs to be made while we are dropping data from the dataframe. This board game model is aimed to predict board game success for *new* games. As such, while I have collected data for BGG's User Number and Standard Deviation features, they exist because the games are not new. New games will not have ratings yet, so a new game will not have a user number or a standard deviation. As such, I cannot use these features for classification. They were interesting and helpful for providing insight during EDA, but will be useless for modeling, and must also be removed."
   ]
  },
  {
   "cell_type": "code",
   "execution_count": 6,
   "metadata": {
    "collapsed": false
   },
   "outputs": [
    {
     "data": {
      "text/plain": [
       "(17521, 6)"
      ]
     },
     "execution_count": 6,
     "metadata": {},
     "output_type": "execute_result"
    }
   ],
   "source": [
    "# I will keep the Standard Deviation in the rating as a potential feature for now.\n",
    "features = noNaN_DF.drop(['Rating', 'ID Num', 'User Number', 'Standard Dev'], axis=1)\n",
    "features.shape"
   ]
  },
  {
   "cell_type": "markdown",
   "metadata": {},
   "source": [
    "## Logistic Regression using sklearn\n",
    "\n",
    "Now that I have a target and some features, it's time to use sklearn to create a logistic regression model. For computational efficiency, I'll be using an L2 regularization model, and will use a cross-validation grid search to determine the best hyperparameter \"C\" used for regularization strength."
   ]
  },
  {
   "cell_type": "code",
   "execution_count": 7,
   "metadata": {
    "collapsed": false
   },
   "outputs": [
    {
     "name": "stdout",
     "output_type": "stream",
     "text": [
      "{'C': 0.001} 0.8021852576647097\n",
      "\n",
      "\n",
      "0.7915160738063535\n",
      "\n",
      "\n",
      "[[4153 1082]\n",
      " [  14    8]]\n"
     ]
    }
   ],
   "source": [
    "from sklearn.model_selection import train_test_split, GridSearchCV\n",
    "from sklearn.linear_model import LogisticRegression\n",
    "from sklearn.metrics import accuracy_score, classification_report, roc_curve, roc_auc_score, confusion_matrix\n",
    "\n",
    "# First, we split the data into a training and test set, using a 70-30 split:\n",
    "X_train, X_test, y_train, y_test = train_test_split(features.values, target.values, \n",
    "                                                    test_size=0.3, random_state=42)\n",
    "\n",
    "# Now, we can perform the grid search for the logistic regression model hyperparameter:\n",
    "logreg = LogisticRegression(random_state=42)    # L2 regularization is the default mode\n",
    "C_vals = [0.0001, 0.001, 0.01, 0.1, 1.0, 10.0, 100.0]\n",
    "clf_grid = GridSearchCV(logreg, {'C': C_vals}, cv=5, scoring='accuracy')\n",
    "clf_grid.fit(X_train, y_train)\n",
    "print(clf_grid.best_params_, clf_grid.best_score_)\n",
    "print('\\n')\n",
    "print(accuracy_score(clf_grid.predict(X_test), y_test))\n",
    "print('\\n')\n",
    "print(confusion_matrix(clf_grid.predict(X_test), y_test))"
   ]
  },
  {
   "cell_type": "code",
   "execution_count": 8,
   "metadata": {
    "collapsed": false
   },
   "outputs": [
    {
     "name": "stdout",
     "output_type": "stream",
     "text": [
      "[Training Classification Report:]\n",
      "             precision    recall  f1-score   support\n",
      "\n",
      "      False       0.80      1.00      0.89      9849\n",
      "       True       0.38      0.01      0.01      2415\n",
      "\n",
      "avg / total       0.72      0.80      0.72     12264\n",
      "\n",
      "[Test Classification Report:]\n",
      "             precision    recall  f1-score   support\n",
      "\n",
      "      False       0.79      1.00      0.88      4167\n",
      "       True       0.36      0.01      0.01      1090\n",
      "\n",
      "avg / total       0.70      0.79      0.70      5257\n",
      "\n"
     ]
    }
   ],
   "source": [
    "# The accuracy looks pretty good, let's look at the classification report:\n",
    "y_predict_train = clf_grid.predict(X_train)\n",
    "y_predict_test = clf_grid.predict(X_test)\n",
    "\n",
    "print(\"[Training Classification Report:]\")\n",
    "print(classification_report(y_train, y_predict_train))\n",
    "\n",
    "print(\"[Test Classification Report:]\")\n",
    "print(classification_report(y_test, y_predict_test))"
   ]
  },
  {
   "cell_type": "code",
   "execution_count": 9,
   "metadata": {
    "collapsed": false
   },
   "outputs": [
    {
     "data": {
      "image/png": "[encoded data removed]",
      "text/plain": [
       "<matplotlib.figure.Figure at 0x105d0c860>"
      ]
     },
     "metadata": {},
     "output_type": "display_data"
    },
    {
     "name": "stdout",
     "output_type": "stream",
     "text": [
      "\n",
      "\n",
      "AUC: 0.6878921979819597\n"
     ]
    }
   ],
   "source": [
    "# Plot an ROC curve for the model:\n",
    "y_pred_prob = clf_grid.predict_proba(X_test)[:,1]\n",
    "fpr, tpr, thresholds = roc_curve(y_test, y_pred_prob)\n",
    "\n",
    "# Plot:\n",
    "fig, axes = plt.subplots(figsize=(10,8))\n",
    "_ = axes.plot([0, 1], [0, 1], 'k--')\n",
    "_ = axes.plot(fpr, tpr)\n",
    "_ = axes.set_xlabel('False Positive Rate', fontsize=16)\n",
    "_ = axes.set_ylabel('True Positive Rate', fontsize=16)\n",
    "_ = plt.title('ROC Curve', fontsize=18)\n",
    "plt.show()\n",
    "\n",
    "# Compute and print AUC score\n",
    "print('\\n')\n",
    "print(\"AUC: {}\".format(roc_auc_score(y_test, y_pred_prob)))"
   ]
  },
  {
   "cell_type": "markdown",
   "metadata": {},
   "source": [
    "These are some interesting but problematic results. In terms of straight accuracy, the model does a good job -- the accuracy of the modeling is 79%. But a further examination into the classification results showcases a very specific problem. The confusion matrix and classification report show that the reason for such a result is that the model is just choosing a 0 for almost every single board game. This reflects itself in the recall difference between the two classes. These properties are coming from the fact that this is an imbalanced dataset, where the difference in classes are 4:1; this problem was created when I made the cutoff for success to be the 80th percentile. \n",
    "\n",
    "To test if this is the case, I can change the cutoff to be 75% and 85%, and see whether or not the results track this change:"
   ]
  },
  {
   "cell_type": "code",
   "execution_count": 10,
   "metadata": {
    "collapsed": false
   },
   "outputs": [
    {
     "name": "stdout",
     "output_type": "stream",
     "text": [
      "{'C': 0.001} 0.7545662100456622\n",
      "\n",
      "\n",
      "0.7382537568955678\n",
      "[Training Classification Report:]\n",
      "             precision    recall  f1-score   support\n",
      "\n",
      "      False       0.76      0.99      0.86      9250\n",
      "       True       0.52      0.02      0.04      3014\n",
      "\n",
      "avg / total       0.70      0.75      0.66     12264\n",
      "\n",
      "[Test Classification Report:]\n",
      "             precision    recall  f1-score   support\n",
      "\n",
      "      False       0.74      0.99      0.85      3890\n",
      "       True       0.42      0.02      0.03      1367\n",
      "\n",
      "avg / total       0.66      0.74      0.64      5257\n",
      "\n"
     ]
    },
    {
     "data": {
      "image/png": "[encoded data removed]",
      "text/plain": [
       "<matplotlib.figure.Figure at 0x115932588>"
      ]
     },
     "metadata": {},
     "output_type": "display_data"
    },
    {
     "name": "stdout",
     "output_type": "stream",
     "text": [
      "\n",
      "\n",
      "AUC: 0.6829316819711037\n"
     ]
    }
   ],
   "source": [
    "# First, let's do the 75% cutoff instead of 80%:\n",
    "ratings = noNaN_DF['Rating']\n",
    "target75 = ratings.apply(lambda x: x >= np.percentile(noNaN_DF['Rating'], 75))\n",
    "\n",
    "# First, we split the data into a training and test set, using a 70-30 split:\n",
    "X_train75, X_test75, y_train75, y_test75 = train_test_split(features.values, target75.values, \n",
    "                                                    test_size=0.3, random_state=42)\n",
    "\n",
    "# Now, we can perform the grid search for the logistic regression model hyperparameter:\n",
    "logreg = LogisticRegression(random_state=42)    # L2 regularlization is the default mode\n",
    "clf_grid75 = GridSearchCV(logreg, {'C': C_vals}, cv=5, scoring='accuracy')\n",
    "clf_grid75.fit(X_train75, y_train75)\n",
    "y_predict_test75 = clf_grid75.predict(X_test75)\n",
    "print(clf_grid75.best_params_, clf_grid75.best_score_)\n",
    "print('\\n')\n",
    "print(accuracy_score(y_predict_test75, y_test75))\n",
    "\n",
    "y_predict_train75 = clf_grid75.predict(X_train75)\n",
    "\n",
    "print(\"[Training Classification Report:]\")\n",
    "print(classification_report(y_train75, y_predict_train75))\n",
    "\n",
    "print(\"[Test Classification Report:]\")\n",
    "print(classification_report(y_test75, y_predict_test75))\n",
    "\n",
    "# Plot an ROC curve for the model:\n",
    "y_pred_prob75 = clf_grid75.predict_proba(X_test75)[:,1]\n",
    "fpr75, tpr75, thresholds75 = roc_curve(y_test75, y_pred_prob75)\n",
    "\n",
    "# Plot:\n",
    "fig, axes = plt.subplots(figsize=(10,8))\n",
    "_ = axes.plot([0, 1], [0, 1], 'k--')\n",
    "_ = axes.plot(fpr75, tpr75)\n",
    "_ = axes.set_xlabel('False Positive Rate', fontsize=16)\n",
    "_ = axes.set_ylabel('True Positive Rate', fontsize=16)\n",
    "_ = plt.title('ROC Curve', fontsize=18)\n",
    "plt.show()\n",
    "\n",
    "# Compute and print AUC score\n",
    "print('\\n')\n",
    "print(\"AUC: {}\".format(roc_auc_score(y_test75, y_pred_prob75)))"
   ]
  },
  {
   "cell_type": "code",
   "execution_count": 11,
   "metadata": {
    "collapsed": false
   },
   "outputs": [
    {
     "name": "stdout",
     "output_type": "stream",
     "text": [
      "{'C': 0.001} 0.8529028049575995\n",
      "\n",
      "\n",
      "0.8390717139052691\n",
      "[Training Classification Report:]\n",
      "             precision    recall  f1-score   support\n",
      "\n",
      "      False       0.85      1.00      0.92     10473\n",
      "       True       0.20      0.00      0.00      1791\n",
      "\n",
      "avg / total       0.76      0.85      0.79     12264\n",
      "\n",
      "[Test Classification Report:]\n",
      "             precision    recall  f1-score   support\n",
      "\n",
      "      False       0.84      1.00      0.91      4419\n",
      "       True       0.17      0.00      0.00       838\n",
      "\n",
      "avg / total       0.73      0.84      0.77      5257\n",
      "\n"
     ]
    },
    {
     "data": {
      "image/png": "[encoded data removed]",
      "text/plain": [
       "<matplotlib.figure.Figure at 0x1159d1470>"
      ]
     },
     "metadata": {},
     "output_type": "display_data"
    },
    {
     "name": "stdout",
     "output_type": "stream",
     "text": [
      "\n",
      "\n",
      "AUC: 0.6970365815655006\n"
     ]
    }
   ],
   "source": [
    "# Now, let's do the 85% cutoff instead of 80%:\n",
    "ratings = noNaN_DF['Rating']\n",
    "target85 = ratings.apply(lambda x: x >= np.percentile(noNaN_DF['Rating'], 85))\n",
    "\n",
    "# First, we split the data into a training and test set, using a 70-30 split:\n",
    "X_train85, X_test85, y_train85, y_test85 = train_test_split(features.values, target85.values, \n",
    "                                                    test_size=0.3, random_state=42)\n",
    "\n",
    "# Now, we can perform the grid search for the logistic regression model hyperparameter:\n",
    "logreg = LogisticRegression(random_state=42)    # L2 regularlization is the default mode\n",
    "clf_grid85 = GridSearchCV(logreg, {'C': C_vals}, cv=5, scoring='accuracy')\n",
    "clf_grid85.fit(X_train85, y_train85)\n",
    "y_predict_test85 = clf_grid85.predict(X_test85)\n",
    "print(clf_grid85.best_params_, clf_grid85.best_score_)\n",
    "print('\\n')\n",
    "print(accuracy_score(y_predict_test85, y_test85))\n",
    "\n",
    "y_predict_train85 = clf_grid85.predict(X_train85)\n",
    "\n",
    "print(\"[Training Classification Report:]\")\n",
    "print(classification_report(y_train85, y_predict_train85))\n",
    "\n",
    "print(\"[Test Classification Report:]\")\n",
    "print(classification_report(y_test85, y_predict_test85))\n",
    "\n",
    "# Plot an ROC curve for the model:\n",
    "y_pred_prob85 = clf_grid85.predict_proba(X_test85)[:,1]\n",
    "fpr85, tpr85, thresholds85 = roc_curve(y_test85, y_pred_prob85)\n",
    "\n",
    "# Plot:\n",
    "fig, axes = plt.subplots(figsize=(10,8))\n",
    "_ = axes.plot([0, 1], [0, 1], 'k--')\n",
    "_ = axes.plot(fpr85, tpr85)\n",
    "_ = axes.set_xlabel('False Positive Rate', fontsize=16)\n",
    "_ = axes.set_ylabel('True Positive Rate', fontsize=16)\n",
    "_ = plt.title('ROC Curve', fontsize=18)\n",
    "plt.show()\n",
    "\n",
    "# Compute and print AUC score\n",
    "print('\\n')\n",
    "print(\"AUC: {}\".format(roc_auc_score(y_test85, y_pred_prob85)))"
   ]
  },
  {
   "cell_type": "markdown",
   "metadata": {},
   "source": [
    "As expected, the behavior of the model tracks the same as the cutoff changed. For both cutoffs, the model still classified all or almost all of the games as unsuccessful. In order to correct this, I will need to balance out the dataset. Ideally, getting more data for successful board games would balance the scales, but because I already downloaded the BGG database, it's not feasible to introduce new games to our dataset. As such, I will adopt two approaches for correction: over-sampling and under-sampling, both of which I'll explore in the next sections."
   ]
  },
  {
   "cell_type": "markdown",
   "metadata": {},
   "source": [
    "## Using SMOTE to help with the imbalance in our dataset\n",
    "\n",
    "As stated before, the major issue we have with our dataset is that it is imbalanced -- because I consider the top 80% of games to be members of the successful class, there is a 4:1 ratio between the 0 class and 1 class respectively. This causes problems with my classifier, as it will just classify all games as the 0 class. One way to address this is to generate synthetic entries of the minority class, in this case the successful (1) board game class. To do this, I will use the SMOTE method, coded up in Python in the __[imblearn](http://contrib.scikit-learn.org/imbalanced-learn/stable/auto_examples/over-sampling/plot_smote.html#sphx-glr-auto-examples-over-sampling-plot-smote-py)__ module.\n",
    "\n",
    "When using SMOTE, it's important to decide when we need to create the synthetic samples. It might seem best at first to create the synthetic samples immediately, and then split the data into training and test sets afterwords, having an even distribution in both. However, there's a problem with this: I could end up with a test set full of synthetic data. This will lead to problems in generalization of the model to new data, so instead, it's best to split off a test set first, and then use SMOTE to swell the ranks purely in the training set.\n",
    "\n",
    "To test how well the model is doing, I will look at the confusion matrix and classification report, though the most important metric will be the recall. This will give me a good idea of how well the classifier is accurately identifying games of each class."
   ]
  },
  {
   "cell_type": "code",
   "execution_count": 12,
   "metadata": {
    "collapsed": false
   },
   "outputs": [
    {
     "name": "stdout",
     "output_type": "stream",
     "text": [
      "(17521, 6) (17521,)\n",
      "SMOTE Algorithm: regular\n",
      "--------------------------------------\n",
      "{'C': 100.0} 0.6633160726977358\n",
      "\n",
      "\n",
      "Coefficient for Weight: 1.0484765258876483\n",
      "\n",
      "Coefficient for Min Playtime: -0.00555890295349277\n",
      "\n",
      "Coefficient for Max Playtime: 0.0011856737686377294\n",
      "\n",
      "Coefficient for Year Published: 0.027011963922219703\n",
      "\n",
      "Coefficient for Min Players: 0.09282296919377822\n",
      "\n",
      "Coefficient for Max Players: 0.04745229417667624\n",
      "\n",
      "Accuracy score: 0.6528438272779151\n",
      "\n",
      "[[2716  374]\n",
      " [1451  716]]\n",
      "\n",
      "\n",
      "[Training Classification Report:]\n",
      "             precision    recall  f1-score   support\n",
      "\n",
      "      False       0.66      0.66      0.66      9849\n",
      "       True       0.66      0.67      0.66      9849\n",
      "\n",
      "avg / total       0.66      0.66      0.66     19698\n",
      "\n",
      "[Test Classification Report:]\n",
      "             precision    recall  f1-score   support\n",
      "\n",
      "      False       0.88      0.65      0.75      4167\n",
      "       True       0.33      0.66      0.44      1090\n",
      "\n",
      "avg / total       0.77      0.65      0.68      5257\n",
      "\n",
      "SMOTE Algorithm: borderline1\n",
      "--------------------------------------\n",
      "{'C': 100.0} 0.6619453751649914\n",
      "\n",
      "\n",
      "Coefficient for Weight: 1.0220493350164606\n",
      "\n",
      "Coefficient for Min Playtime: -0.0042912675347699086\n",
      "\n",
      "Coefficient for Max Playtime: 0.0001849964389037657\n",
      "\n",
      "Coefficient for Year Published: 0.029900728150019682\n",
      "\n",
      "Coefficient for Min Players: 0.11243676679978015\n",
      "\n",
      "Coefficient for Max Players: 0.04261711641784015\n",
      "\n",
      "Accuracy score: 0.6494198211907932\n",
      "\n",
      "[[2685  361]\n",
      " [1482  729]]\n",
      "\n",
      "\n",
      "[Training Classification Report:]\n",
      "             precision    recall  f1-score   support\n",
      "\n",
      "      False       0.67      0.65      0.66      9849\n",
      "       True       0.66      0.68      0.67      9849\n",
      "\n",
      "avg / total       0.66      0.66      0.66     19698\n",
      "\n",
      "[Test Classification Report:]\n",
      "             precision    recall  f1-score   support\n",
      "\n",
      "      False       0.88      0.64      0.74      4167\n",
      "       True       0.33      0.67      0.44      1090\n",
      "\n",
      "avg / total       0.77      0.65      0.68      5257\n",
      "\n",
      "SMOTE Algorithm: borderline2\n",
      "--------------------------------------\n",
      "{'C': 100.0} 0.6491851550997614\n",
      "\n",
      "\n",
      "Coefficient for Weight: 0.9485581763302788\n",
      "\n",
      "Coefficient for Min Playtime: -0.005040978162302427\n",
      "\n",
      "Coefficient for Max Playtime: 0.0011851828987530448\n",
      "\n",
      "Coefficient for Year Published: 0.02803464590829117\n",
      "\n",
      "Coefficient for Min Players: 0.11071311893997002\n",
      "\n",
      "Coefficient for Max Players: 0.040200236219368524\n",
      "\n",
      "Accuracy score: 0.646756705345254\n",
      "\n",
      "[[2656  346]\n",
      " [1511  744]]\n",
      "\n",
      "\n",
      "[Training Classification Report:]\n",
      "             precision    recall  f1-score   support\n",
      "\n",
      "      False       0.65      0.64      0.65      9849\n",
      "       True       0.65      0.66      0.65      9848\n",
      "\n",
      "avg / total       0.65      0.65      0.65     19697\n",
      "\n",
      "[Test Classification Report:]\n",
      "             precision    recall  f1-score   support\n",
      "\n",
      "      False       0.88      0.64      0.74      4167\n",
      "       True       0.33      0.68      0.44      1090\n",
      "\n",
      "avg / total       0.77      0.65      0.68      5257\n",
      "\n",
      "SMOTE Algorithm: svm\n",
      "--------------------------------------\n",
      "{'C': 100.0} 0.6969589277554957\n",
      "\n",
      "\n",
      "Coefficient for Weight: 1.2590574932746355\n",
      "\n",
      "Coefficient for Min Playtime: -0.010209286851261953\n",
      "\n",
      "Coefficient for Max Playtime: 0.0046918944267447015\n",
      "\n",
      "Coefficient for Year Published: 0.034323253959247714\n",
      "\n",
      "Coefficient for Min Players: 0.11903969817739525\n",
      "\n",
      "Coefficient for Max Players: 0.03256841674992342\n",
      "\n",
      "Accuracy score: 0.6728171961194598\n",
      "\n",
      "[[2867  420]\n",
      " [1300  670]]\n",
      "\n",
      "\n",
      "[Training Classification Report:]\n",
      "             precision    recall  f1-score   support\n",
      "\n",
      "      False       0.70      0.69      0.70      9849\n",
      "       True       0.70      0.70      0.70      9848\n",
      "\n",
      "avg / total       0.70      0.70      0.70     19697\n",
      "\n",
      "[Test Classification Report:]\n",
      "             precision    recall  f1-score   support\n",
      "\n",
      "      False       0.87      0.69      0.77      4167\n",
      "       True       0.34      0.61      0.44      1090\n",
      "\n",
      "avg / total       0.76      0.67      0.70      5257\n",
      "\n"
     ]
    }
   ],
   "source": [
    "from imblearn.over_sampling import SMOTE\n",
    "\n",
    "# Establish data set features and target:\n",
    "X_before = features.values\n",
    "y_before = target.values\n",
    "print(X_before.shape, y_before.shape)\n",
    "    \n",
    "# Do a train-test split of 70-30 on the new dataset:\n",
    "X_train_before, X_test_res, y_train_before, y_test_res = train_test_split(X_before, y_before, \n",
    "                                                test_size=0.3, random_state=42)\n",
    "# There are 4 different SMOTE algorithms, so let's try each one:\n",
    "kinds = ['regular', 'borderline1', 'borderline2', 'svm']\n",
    "for k in kinds:\n",
    "    \n",
    "    # Use SMOTE to generate synthetic samples of the minority class:\n",
    "    sm = SMOTE(kind=k, random_state=42)  # Without an input ratio, will generate until equal representation\n",
    "    X_train_res, y_train_res = sm.fit_sample(X_train_before, y_train_before)\n",
    "    print('SMOTE Algorithm: {}'.format(k))\n",
    "    print('--------------------------------------')\n",
    "    \n",
    "    # Do a grid search for the best regularization parameter:\n",
    "    logreg_grid = LogisticRegression(random_state=42)\n",
    "    clf_res = GridSearchCV(logreg_grid, {'C': C_vals}, cv=5, scoring='accuracy')\n",
    "    clf_res.fit(X_train_res, y_train_res)\n",
    "    print(clf_res.best_params_, clf_res.best_score_)\n",
    "    print('\\n')\n",
    "    \n",
    "    # Retrain the logistic regression and make predictions:\n",
    "    logreg_resample = LogisticRegression(C=clf_res.best_params_['C'], random_state=42)\n",
    "    logreg_resample.fit(X_train_res, y_train_res)\n",
    "    y_predict_train_res = logreg_resample.predict(X_train_res)\n",
    "    y_predict_test_res = logreg_resample.predict(X_test_res)\n",
    "    \n",
    "    # Figure out the coefficients and summary statistics:\n",
    "    for i in range(len(features.columns)):\n",
    "        print('Coefficient for {}: {}\\n'.format(features.columns[i], logreg_resample.coef_[0][i]))\n",
    "    \n",
    "    accuracy = accuracy_score(y_predict_test_res, y_test_res)\n",
    "    print('Accuracy score: {}\\n'.format(accuracy))\n",
    "    print(confusion_matrix(y_predict_test_res, y_test_res))\n",
    "    print('\\n')\n",
    "    print(\"[Training Classification Report:]\")\n",
    "    print(classification_report(y_train_res, y_predict_train_res))\n",
    "    \n",
    "    print(\"[Test Classification Report:]\")\n",
    "    print(classification_report(y_test_res, y_predict_test_res))"
   ]
  },
  {
   "cell_type": "markdown",
   "metadata": {},
   "source": [
    "So it would appear the best results I got were from using the \"svm\" SMOTE algorithm. This ended with an average recall of 67%. It's also worth noting that in terms of the true class recall, the \"borderline-2\" SMOTE algorithm performed the best, with a value of 68%, but this was at the expense of the false class recall, which was lower than that of the other models.\n",
    "\n",
    "## Under-sampling the dataset (Small ensemble classifier)\n",
    "\n",
    "Another way of addressing an imbalanced dataset problem is to under-sample the majority class. Given the amount of data in my dataset (roughly 17,500 entries), achieving a balance between the successful and unsuccessful board games would require me to trim my dataset way down. I don't want to delete my data completely, so instead I will create an ensemble classifier by splitting up the majority classes into groups and then taking the majority vote of each one."
   ]
  },
  {
   "cell_type": "markdown",
   "metadata": {},
   "source": [
    "To build this ensemble, it would be good to create a large number of individual classifiers; in this case, it can be accomplished by randomly sampling from my majority class so that I can create different samples for regression training. Then I can implement a weighted majority vote based on the accuracy of any particular model. For reproducability, I will need to save the classifiers (and the weights) so they can be used again with new data."
   ]
  },
  {
   "cell_type": "code",
   "execution_count": 13,
   "metadata": {
    "collapsed": false
   },
   "outputs": [],
   "source": [
    "# Build a function for weighing the accuracy of a vote:\n",
    "def accuracy_weighting(accuracy, vote):\n",
    "    if vote:\n",
    "        new_vote = accuracy\n",
    "    else:\n",
    "        new_vote = 1.0 - accuracy\n",
    "    return new_vote\n",
    "\n",
    "# Now, let's separate out the different classes in the dataset:\n",
    "target.name = 'Target'\n",
    "noNaN_DF = pd.concat([noNaN_DF, target], axis=1)\n",
    "trues = noNaN_DF.loc[noNaN_DF.Target==True]\n",
    "falses = noNaN_DF.loc[noNaN_DF.Target==False]\n",
    "trues_y = trues['Target']\n",
    "trues_X = trues.drop(['Rating', 'Target', 'ID Num', 'User Number', 'Standard Dev'], axis=1)\n",
    "falses_y = falses['Target']\n",
    "falses_X = falses.drop(['Rating', 'Target', 'ID Num', 'User Number', 'Standard Dev'], axis=1)\n",
    "\n",
    "# Do a 80-20 train-test-split on trues and falses to build the test set:\n",
    "X_train_true, X_test_true, y_train_true, y_test_true = train_test_split(trues_X.values, \n",
    "                                                    trues_y.values, test_size=0.2, random_state=42)\n",
    "X_train_false, X_test_false, y_train_false, y_test_false = train_test_split(falses_X.values, \n",
    "                                                    falses_y.values, test_size=0.2, random_state=42)\n",
    "X_test_folds = np.concatenate((X_test_true, X_test_false))\n",
    "y_test_folds = np.concatenate((y_test_true, y_test_false))\n",
    "\n",
    "\n",
    "# Now we will need to loop through the algorithm for creating a new training\n",
    "# set and training the logistic regression model to save for later. Let's\n",
    "# use a total of 1000 classifiers for our ensemble.\n",
    "\n",
    "from sklearn.externals import joblib  # For pickling/unpickling models for saving\n",
    "PKLPATH = 'pkl_files/'\n",
    "models = []\n",
    "votes = []\n",
    "\n",
    "for j in range(1000):\n",
    "    # Use train-test-split to grab a random 26% assortment of remaining training data:\n",
    "    X_false_random, _1, y_false_random, _2 = train_test_split(X_train_false, \n",
    "                                                    y_train_false, test_size=0.74, random_state=j)\n",
    "    X_train_random = np.concatenate((X_false_random, X_train_true)) # 3320 False, 3226 True\n",
    "    y_train_random = np.concatenate((y_false_random, y_train_true))\n",
    "    \n",
    "    # Do a grid search to train the log regression model:\n",
    "    logreg_rand = LogisticRegression(random_state=j)\n",
    "    clf_rand = GridSearchCV(logreg_rand, {'C': C_vals}, cv=5, scoring='accuracy')\n",
    "    clf_rand.fit(X_train_random, y_train_random)\n",
    "    \n",
    "    # Vote (predict) on the test set and then apply weight based on accuracy:\n",
    "    prediction = clf_rand.predict(X_test_folds)\n",
    "    vote = np.array(prediction, dtype=float) # Individual vote\n",
    "    accuracy = accuracy_score(prediction, y_test_folds)\n",
    "    vote_weighted = np.fromiter((accuracy_weighting(accuracy, v) for v in vote), float)\n",
    "    \n",
    "    # Save model, then place it and its vote inside the models and votes list for later:\n",
    "    joblib.dump(clf_rand, '{}log_reg_rand{}.pkl'.format(PKLPATH, str(j)))\n",
    "    models.append(joblib.load('{}log_reg_rand{}.pkl'.format(PKLPATH, str(j))))\n",
    "    votes.append(vote_weighted)"
   ]
  },
  {
   "cell_type": "code",
   "execution_count": 14,
   "metadata": {
    "collapsed": false
   },
   "outputs": [
    {
     "name": "stdout",
     "output_type": "stream",
     "text": [
      "Accuracy for full ensemble: 0.670756062767475\n",
      "\n",
      "Confusion Matrix: \n",
      "\n",
      "[[1939  289]\n",
      " [ 865  412]]\n",
      "\n",
      "\n",
      "[Test Classification Report:]\n",
      "             precision    recall  f1-score   support\n",
      "\n",
      "      False       0.87      0.69      0.77      2804\n",
      "       True       0.32      0.59      0.42       701\n",
      "\n",
      "avg / total       0.76      0.67      0.70      3505\n",
      "\n"
     ]
    }
   ],
   "source": [
    "# Now we have all of the models and votes collected, so we can create the ensemble vote:\n",
    "ensemble_vote = np.sum(votes, axis=0)\n",
    "ensemble_predict = np.zeros(len(ensemble_vote), dtype=bool)\n",
    "for index, vote in enumerate(ensemble_vote):\n",
    "    if vote >= 500.0:\n",
    "        ensemble_predict[index] = True\n",
    "\n",
    "# Finally, let's calculate the relevant metrics:\n",
    "print('Accuracy for full ensemble: {}\\n'.format(accuracy_score(ensemble_predict, y_test_folds)))\n",
    "print('Confusion Matrix: \\n')\n",
    "print(confusion_matrix(ensemble_predict, y_test_folds))\n",
    "print('\\n')\n",
    "print(\"[Test Classification Report:]\")\n",
    "print(classification_report(y_test_folds, ensemble_predict))"
   ]
  },
  {
   "cell_type": "code",
   "execution_count": 15,
   "metadata": {
    "collapsed": false
   },
   "outputs": [
    {
     "data": {
      "image/png": "[encoded data removed]",
      "text/plain": [
       "<matplotlib.figure.Figure at 0x1140854a8>"
      ]
     },
     "metadata": {},
     "output_type": "display_data"
    }
   ],
   "source": [
    "# Plot the distribution of ensemble votes:\n",
    "fig, axes = plt.subplots(figsize=(10,8))\n",
    "_ = axes.hist(ensemble_vote, bins=10)\n",
    "_ = axes.set_xlabel('Vote Values', fontsize=16)\n",
    "_ = axes.set_ylabel('Log Distribution', fontsize=16)\n",
    "_ = axes.set_yscale('log')\n",
    "_ = plt.title('Log Distribution of Ensemble Votes', fontsize=18)\n",
    "plt.show()"
   ]
  },
  {
   "cell_type": "markdown",
   "metadata": {},
   "source": [
    "The ensemble method seemed to show similar results to the SMOTE method, though it has less interpretability since there is no easy way to determine the coefficients for each feature. It performed slightly worse, so of the two methods, the over-sampling seems to have been overall superior. Interestingly, as shown in the plot above, most of the board games were classified with most of the ensemble in agreement, with comparatively fewer games being on the fence.\n",
    "\n",
    "The logistic regression results are promising, though I would like to try the Random Forest classifier, as it tends to have superior accuracy than logistic regression. I'll explore that possibility in the next IPython notebook, and see how the two classifiers compare."
   ]
  },
  {
   "cell_type": "code",
   "execution_count": null,
   "metadata": {
    "collapsed": true
   },
   "outputs": [],
   "source": []
  }
 ],
 "metadata": {
  "kernelspec": {
   "display_name": "Python 3",
   "language": "python",
   "name": "python3"
  },
  "language_info": {
   "codemirror_mode": {
    "name": "ipython",
    "version": 3
   },
   "file_extension": ".py",
   "mimetype": "text/x-python",
   "name": "python",
   "nbconvert_exporter": "python",
   "pygments_lexer": "ipython3",
   "version": "3.4.5"
  }
 },
 "nbformat": 4,
 "nbformat_minor": 2
}
