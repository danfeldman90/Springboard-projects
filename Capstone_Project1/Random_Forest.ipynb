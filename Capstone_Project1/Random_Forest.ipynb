{
 "cells": [
  {
   "cell_type": "markdown",
   "metadata": {},
   "source": [
    "# Random Forest for Board Game Success\n",
    "\n",
    "Having tried to model the success of board games in my sample using a logistic regression, I found that the best results were obtained using an ensemble of logistic regression classifiers and taking a weighted majority vote. This naturally leads to trying out a random forest classifier, as it is another type of ensemble approach. This notebook will explore how the random forest will fare compared to the logistic regression.\n",
    "\n",
    "## Simple Random Forest\n",
    "\n",
    "Since we will be comparing to the logistic regression, let's start out simple. Just like with logistic regression, we will use the same cutoff point of 80th percentile for success, and try to predict without any attempt to balance the dataset. We can start by loading in the data and creating the same features and target as in the logistic regression notebook:"
   ]
  },
  {
   "cell_type": "code",
   "execution_count": 3,
   "metadata": {
    "collapsed": false
   },
   "outputs": [
    {
     "name": "stdout",
     "output_type": "stream",
     "text": [
      "(17574,) (17574, 6)\n"
     ]
    }
   ],
   "source": [
    "import numpy as np\n",
    "import pandas as pd\n",
    "import matplotlib.pyplot as plt\n",
    "import pickle\n",
    "\n",
    "with open('BGG_NoNaN_DF.pkl', 'rb') as f:\n",
    "    noNaN_DF = pickle.load(f)\n",
    "\n",
    "ratings = noNaN_DF['Rating']\n",
    "target = ratings.apply(lambda x: x >= 5.84)\n",
    "features = noNaN_DF.drop(['Rating', 'ID Num', 'User Number', 'Standard Dev'], axis=1)\n",
    "print(target.shape, features.shape)"
   ]
  },
  {
   "cell_type": "markdown",
   "metadata": {},
   "source": [
    "Now we can just use an out of the box random forest classifier from sklearn:"
   ]
  },
  {
   "cell_type": "code",
   "execution_count": 4,
   "metadata": {
    "collapsed": false
   },
   "outputs": [
    {
     "name": "stdout",
     "output_type": "stream",
     "text": [
      "Best parameters for n_estimators, max_features, and max_depth: \n",
      "\n",
      "{'max_depth': 1, 'max_features': 2, 'n_estimators': 150} 0.7803430615397122\n",
      "\n",
      "Accuracy Score:\n",
      "0.7813388962639863\n",
      "\n",
      "Confusion Matrix\n",
      "[[4120 1153]\n",
      " [   0    0]]\n",
      "\n",
      "[Training Classification Report:]\n",
      "             precision    recall  f1-score   support\n",
      "\n",
      "      False       0.78      1.00      0.88      9599\n",
      "       True       0.00      0.00      0.00      2702\n",
      "\n",
      "avg / total       0.61      0.78      0.68     12301\n",
      "\n",
      "[Test Classification Report:]\n",
      "             precision    recall  f1-score   support\n",
      "\n",
      "      False       0.78      1.00      0.88      4120\n",
      "       True       0.00      0.00      0.00      1153\n",
      "\n",
      "avg / total       0.61      0.78      0.69      5273\n",
      "\n"
     ]
    },
    {
     "name": "stderr",
     "output_type": "stream",
     "text": [
      "/Users/danielfeldman/.local/lib/python3.4/site-packages/sklearn/metrics/classification.py:1135: UndefinedMetricWarning: Precision and F-score are ill-defined and being set to 0.0 in labels with no predicted samples.\n",
      "  'precision', 'predicted', average, warn_for)\n"
     ]
    }
   ],
   "source": [
    "from sklearn.model_selection import train_test_split, GridSearchCV\n",
    "from sklearn.metrics import accuracy_score, classification_report, roc_curve, roc_auc_score, confusion_matrix\n",
    "from sklearn.ensemble import RandomForestClassifier\n",
    "\n",
    "# Split the data with a 70-30 train-test split, then do a grid search:\n",
    "X_train, X_test, y_train, y_test = train_test_split(features.values, target.values, \n",
    "                                                    test_size=0.3, random_state=42)\n",
    "n_estimates = [150, 200, 250]\n",
    "max_feats = [2, 3, 4]\n",
    "max_depth = [1, 2, 3]\n",
    "randfor = RandomForestClassifier(random_state=42)\n",
    "clf_grid = GridSearchCV(randfor, {'n_estimators': n_estimates, 'max_features': max_feats, 'max_depth': max_depth}\n",
    "                        , cv=5, scoring='accuracy')\n",
    "clf_grid.fit(X_train, y_train)\n",
    "\n",
    "# Predict on the test (and training) set to calculate metrics:\n",
    "y_predict_train = clf_grid.predict(X_train)\n",
    "y_predict_test = clf_grid.predict(X_test)\n",
    "\n",
    "print('Best parameters for n_estimators, max_features, and max_depth: \\n')\n",
    "print(clf_grid.best_params_, clf_grid.best_score_)\n",
    "print('\\nAccuracy Score:')\n",
    "print(accuracy_score(y_predict_test, y_test))\n",
    "print('\\nConfusion Matrix')\n",
    "print(confusion_matrix(y_predict_test, y_test))\n",
    "\n",
    "print(\"\\n[Training Classification Report:]\")\n",
    "print(classification_report(y_train, y_predict_train))\n",
    "\n",
    "print(\"[Test Classification Report:]\")\n",
    "print(classification_report(y_test, y_predict_test))"
   ]
  },
  {
   "cell_type": "markdown",
   "metadata": {},
   "source": [
    "Just like with the logistic regression classifier, the random forest is experiencing the same problem typically seen with imbalanced datasets. That is, the majority class is swamping out the minority class, and so the classifier will just say everything is the majority class. As such, I think it'll be good to try to balance the dataset out in the ways similar to how I did it in the logistic regression notebook.\n",
    "\n",
    "## Using SMOTE to create synthetic samples of the minority class\n",
    "\n",
    "SMOTE is a good way to generate synthetic samples of the minority class by taking real samples and perturbing the values in the direction of the other real samples of the minority class. This can be used to make a balanced sample for classification. Last time, the best way I was able to achieve this was to use SMOTE to create samples **before** I did the train-test split, and then to proceed with classification. However, the downside to this method is that synthetic samples can bleed into the test set, so you're testing the classifier partially on fake data. Still, I'm going to try that first:"
   ]
  },
  {
   "cell_type": "code",
   "execution_count": 5,
   "metadata": {
    "collapsed": false
   },
   "outputs": [
    {
     "name": "stdout",
     "output_type": "stream",
     "text": [
      "SMOTE Algorithm: regular\n",
      "--------------------------------------\n",
      "Accuracy score: 0.6858600583090378\n",
      "\n",
      "[[2936 1363]\n",
      " [1223 2710]]\n",
      "\n",
      "\n",
      "[Training Classification Report:]\n",
      "             precision    recall  f1-score   support\n",
      "\n",
      "      False       0.69      0.70      0.69      9560\n",
      "       True       0.70      0.68      0.69      9646\n",
      "\n",
      "avg / total       0.69      0.69      0.69     19206\n",
      "\n",
      "[Test Classification Report:]\n",
      "             precision    recall  f1-score   support\n",
      "\n",
      "      False       0.68      0.71      0.69      4159\n",
      "       True       0.69      0.67      0.68      4073\n",
      "\n",
      "avg / total       0.69      0.69      0.69      8232\n",
      "\n",
      "SMOTE Algorithm: borderline1\n",
      "--------------------------------------\n",
      "Accuracy score: 0.6884110787172012\n",
      "\n",
      "[[2951 1357]\n",
      " [1208 2716]]\n",
      "\n",
      "\n",
      "[Training Classification Report:]\n",
      "             precision    recall  f1-score   support\n",
      "\n",
      "      False       0.67      0.70      0.69      9560\n",
      "       True       0.69      0.66      0.67      9646\n",
      "\n",
      "avg / total       0.68      0.68      0.68     19206\n",
      "\n",
      "[Test Classification Report:]\n",
      "             precision    recall  f1-score   support\n",
      "\n",
      "      False       0.69      0.71      0.70      4159\n",
      "       True       0.69      0.67      0.68      4073\n",
      "\n",
      "avg / total       0.69      0.69      0.69      8232\n",
      "\n",
      "SMOTE Algorithm: borderline2\n",
      "--------------------------------------\n",
      "Accuracy score: 0.6967930029154519\n",
      "\n",
      "[[2871 1208]\n",
      " [1288 2865]]\n",
      "\n",
      "\n",
      "[Training Classification Report:]\n",
      "             precision    recall  f1-score   support\n",
      "\n",
      "      False       0.69      0.68      0.69      9560\n",
      "       True       0.69      0.70      0.70      9646\n",
      "\n",
      "avg / total       0.69      0.69      0.69     19206\n",
      "\n",
      "[Test Classification Report:]\n",
      "             precision    recall  f1-score   support\n",
      "\n",
      "      False       0.70      0.69      0.70      4159\n",
      "       True       0.69      0.70      0.70      4073\n",
      "\n",
      "avg / total       0.70      0.70      0.70      8232\n",
      "\n",
      "SMOTE Algorithm: svm\n",
      "--------------------------------------\n",
      "Accuracy score: 0.722910592808552\n",
      "\n",
      "[[2942 1064]\n",
      " [1217 3009]]\n",
      "\n",
      "\n",
      "[Training Classification Report:]\n",
      "             precision    recall  f1-score   support\n",
      "\n",
      "      False       0.72      0.70      0.71      9560\n",
      "       True       0.71      0.72      0.72      9646\n",
      "\n",
      "avg / total       0.71      0.71      0.71     19206\n",
      "\n",
      "[Test Classification Report:]\n",
      "             precision    recall  f1-score   support\n",
      "\n",
      "      False       0.73      0.71      0.72      4159\n",
      "       True       0.71      0.74      0.73      4073\n",
      "\n",
      "avg / total       0.72      0.72      0.72      8232\n",
      "\n"
     ]
    }
   ],
   "source": [
    "from imblearn.over_sampling import SMOTE\n",
    "\n",
    "# Establish data set features and target:\n",
    "X_before = features.values\n",
    "y_before = target.values\n",
    "\n",
    "# There are 4 different SMOTE algorithms, so let's try each one:\n",
    "kinds = ['regular', 'borderline1', 'borderline2', 'svm']\n",
    "for k in kinds:\n",
    "    \n",
    "    # Use SMOTE to generate synthetic samples of the minority class:\n",
    "    sm = SMOTE(kind=k, random_state=42)  # Without an input ratio, will generate until equal representation\n",
    "    X_after, y_after = sm.fit_sample(X_before, y_before)\n",
    "    print('SMOTE Algorithm: {}'.format(k))\n",
    "    print('--------------------------------------')\n",
    "\n",
    "    # Do a train-test split of 70-30 on the new dataset:\n",
    "    X_train_res, X_test_res, y_train_res, y_test_res = train_test_split(X_after, y_after, \n",
    "                                                    test_size=0.3, random_state=42)\n",
    "    \n",
    "    # Train the random forest classifier using the same grid search as before:\n",
    "    randfor = RandomForestClassifier(random_state=42)\n",
    "    clf_smote = GridSearchCV(randfor, {'n_estimators': n_estimates, 'max_features': max_feats, 'max_depth': max_depth}\n",
    "                            , cv=5, scoring='accuracy')\n",
    "    clf_smote.fit(X_train_res, y_train_res)\n",
    "    \n",
    "    # Predict using best results then calculate the metrics:\n",
    "    y_predict_train_res = clf_smote.predict(X_train_res)\n",
    "    y_predict_test_res = clf_smote.predict(X_test_res)\n",
    "    \n",
    "    accuracy = accuracy_score(y_predict_test_res, y_test_res)\n",
    "    print('Accuracy score: {}\\n'.format(accuracy))\n",
    "    print(confusion_matrix(y_predict_test_res, y_test_res))\n",
    "    print('\\n')\n",
    "    print(\"[Training Classification Report:]\")\n",
    "    print(classification_report(y_train_res, y_predict_train_res))\n",
    "    \n",
    "    print(\"[Test Classification Report:]\")\n",
    "    print(classification_report(y_test_res, y_predict_test_res))"
   ]
  },
  {
   "cell_type": "code",
   "execution_count": 6,
   "metadata": {
    "collapsed": false
   },
   "outputs": [
    {
     "name": "stdout",
     "output_type": "stream",
     "text": [
      "Best parameters for n_estimators, max_features, and max_depth: \n",
      "\n",
      "{'max_depth': 3, 'max_features': 2, 'n_estimators': 150} 0.7119129438717068\n"
     ]
    }
   ],
   "source": [
    "print('Best parameters for n_estimators, max_features, and max_depth: \\n')\n",
    "print(clf_smote.best_params_, clf_smote.best_score_)"
   ]
  },
  {
   "cell_type": "markdown",
   "metadata": {},
   "source": [
    "## Under-sampling the majority class--ensemble classifier\n",
    "\n",
    "In the logistic regression notebook, the best results we obtained was via an ensemble classifier based on undersampling the majority class at random and taking a weighted majority vote. It's worth trying this out for the random forest algorithm and seeing if it gives similar (or better) results."
   ]
  },
  {
   "cell_type": "code",
   "execution_count": 8,
   "metadata": {
    "collapsed": false
   },
   "outputs": [],
   "source": [
    "from sklearn.externals import joblib  # For pickling/unpickling models for saving\n",
    "\n",
    "def accuracy_weighting(accuracy, vote):\n",
    "    \"\"\"\n",
    "    Determines the vote of a classifier based on its accuracy and\n",
    "    previous vote (0 or 1). If the vote was a 1, make it the \n",
    "    accuracy value instead. If a 0, do one minus the accuracy.\n",
    "    \"\"\"\n",
    "    if vote:\n",
    "        new_vote = accuracy\n",
    "    else:\n",
    "        new_vote = 1.0 - accuracy\n",
    "    return new_vote\n",
    "\n",
    "# First, let's separate out the different classes in the dataset:\n",
    "target.name = 'Target'\n",
    "noNaN_DF = pd.concat([noNaN_DF, target], axis=1)\n",
    "trues = noNaN_DF.loc[noNaN_DF.Target==True]\n",
    "falses = noNaN_DF.loc[noNaN_DF.Target==False]\n",
    "trues_y = trues['Target']\n",
    "trues_X = trues.drop(['ID Num', 'User Number', 'Rating', 'Target'], axis=1)\n",
    "falses_y = falses['Target']\n",
    "falses_X = falses.drop(['ID Num', 'User Number', 'Rating', 'Target'], axis=1)\n",
    "\n",
    "# Do a 80-20 train-test-split on trues and falses to build the test set:\n",
    "X_train_true, X_test_true, y_train_true, y_test_true = train_test_split(trues_X.values, \n",
    "                                                    trues_y.values, test_size=0.2, random_state=42)\n",
    "X_train_false, X_test_false, y_train_false, y_test_false = train_test_split(falses_X.values, \n",
    "                                                    falses_y.values, test_size=0.2, random_state=42)\n",
    "X_test_folds = np.concatenate((X_test_true, X_test_false))\n",
    "y_test_folds = np.concatenate((y_test_true, y_test_false))\n",
    "\n",
    "# Given the number of classifiers I'm building, will need a smaller grid to search:\n",
    "max_depth_rand = [1, 2, 3]\n",
    "\n",
    "# Now to initialize relevant path and lists:\n",
    "PKLPATH = 'pkl_files/'\n",
    "models = []\n",
    "votes = []\n",
    "\n",
    "# Build & train classifiers, then have them vote, saving results along the way:\n",
    "for j in range(1000):\n",
    "    # Use train-test-split to grab a random 26% assortment of remaining training data:\n",
    "    X_false_random, _1, y_false_random, _2 = train_test_split(X_train_false, \n",
    "                                                    y_train_false, test_size=0.74, random_state=j)\n",
    "    X_train_random = np.concatenate((X_false_random, X_train_true)) # 3320 False, 3226 True\n",
    "    y_train_random = np.concatenate((y_false_random, y_train_true))\n",
    "    \n",
    "    # Do a grid search to train the log regression model:\n",
    "    randfor_rand = RandomForestClassifier(max_features=2, n_estimators=200, random_state=j, oob_score=True)\n",
    "    clf_rand = GridSearchCV(randfor, {'max_depth': max_depth_rand}, cv=5, scoring='accuracy')\n",
    "    clf_rand.fit(X_train_random, y_train_random)\n",
    "    \n",
    "    # Vote (predict) on the test set and then apply weight based on accuracy:\n",
    "    prediction = clf_rand.predict(X_test_folds)\n",
    "    vote = np.array(prediction, dtype=float) # Individual vote\n",
    "    accuracy = accuracy_score(prediction, y_test_folds)\n",
    "    vote_weighted = np.fromiter((accuracy_weighting(accuracy, v) for v in vote), float)\n",
    "    \n",
    "    # Save model, then place it and its vote inside the models and votes list for later:\n",
    "    joblib.dump(clf_rand, '{}rand_forest_ens{}.pkl'.format(PKLPATH, str(j)))\n",
    "    models.append(joblib.load('{}rand_forest_ens{}.pkl'.format(PKLPATH, str(j))))\n",
    "    votes.append(vote_weighted)"
   ]
  },
  {
   "cell_type": "code",
   "execution_count": 9,
   "metadata": {
    "collapsed": false
   },
   "outputs": [
    {
     "name": "stdout",
     "output_type": "stream",
     "text": [
      "Accuracy for full ensemble: 0.6924608819345661\n",
      "\n",
      "Confusion Matrix: \n",
      "\n",
      "[[1863  200]\n",
      " [ 881  571]]\n",
      "\n",
      "\n",
      "[Test Classification Report:]\n",
      "             precision    recall  f1-score   support\n",
      "\n",
      "      False       0.90      0.68      0.78      2744\n",
      "       True       0.39      0.74      0.51       771\n",
      "\n",
      "avg / total       0.79      0.69      0.72      3515\n",
      "\n"
     ]
    }
   ],
   "source": [
    "# Now we have all of the models and votes collected, so we can create the ensemble vote:\n",
    "ensemble_vote = np.sum(votes, axis=0)\n",
    "ensemble_predict = np.zeros(len(ensemble_vote), dtype=bool)\n",
    "for index, vote in enumerate(ensemble_vote):\n",
    "    if vote >= 500.0:\n",
    "        ensemble_predict[index] = True\n",
    "\n",
    "# Finally, let's calculate the relevant metrics:\n",
    "print('Accuracy for full ensemble: {}\\n'.format(accuracy_score(ensemble_predict, y_test_folds)))\n",
    "print('Confusion Matrix: \\n')\n",
    "print(confusion_matrix(ensemble_predict, y_test_folds))\n",
    "print('\\n')\n",
    "print(\"[Test Classification Report:]\")\n",
    "print(classification_report(y_test_folds, ensemble_predict))"
   ]
  },
  {
   "cell_type": "code",
   "execution_count": 10,
   "metadata": {
    "collapsed": false
   },
   "outputs": [
    {
     "data": {
      "image/png": "[encoded data removed]",
      "text/plain": [
       "<matplotlib.figure.Figure at 0x11862cc88>"
      ]
     },
     "metadata": {},
     "output_type": "display_data"
    }
   ],
   "source": [
    "# Plot the distribution of ensemble votes:\n",
    "fig, axes = plt.subplots(figsize=(10,8))\n",
    "_ = axes.hist(ensemble_vote, bins=10)\n",
    "_ = axes.set_xlabel('Vote Values', fontsize=16)\n",
    "_ = axes.set_ylabel('Log Distribution', fontsize=16)\n",
    "_ = axes.set_yscale('log')\n",
    "_ = plt.title('Log Distribution of Ensemble Votes', fontsize=18)\n",
    "plt.show()"
   ]
  },
  {
   "cell_type": "markdown",
   "metadata": {},
   "source": [
    "What about using the OOB score instead of accuracy to score the individual classifiers? Let's try it:"
   ]
  },
  {
   "cell_type": "code",
   "execution_count": 11,
   "metadata": {
    "collapsed": false
   },
   "outputs": [
    {
     "name": "stdout",
     "output_type": "stream",
     "text": [
      "Accuracy for full ensemble: 0.7027027027027027\n",
      "\n",
      "Confusion Matrix: \n",
      "\n",
      "[[1871  172]\n",
      " [ 873  599]]\n",
      "\n",
      "\n",
      "[Test Classification Report:]\n",
      "             precision    recall  f1-score   support\n",
      "\n",
      "      False       0.92      0.68      0.78      2744\n",
      "       True       0.41      0.78      0.53       771\n",
      "\n",
      "avg / total       0.80      0.70      0.73      3515\n",
      "\n"
     ]
    }
   ],
   "source": [
    "# Now to initialize relevant path and lists:\n",
    "PKLPATH = 'pkl_files/'\n",
    "models = []\n",
    "votes = []\n",
    "\n",
    "# Build & train classifiers, then have them vote, saving results along the way:\n",
    "for j in range(1000):\n",
    "    # Use train-test-split to grab a random 26% assortment of remaining training data:\n",
    "    X_false_random, _1, y_false_random, _2 = train_test_split(X_train_false, \n",
    "                                                    y_train_false, test_size=0.74, random_state=j)\n",
    "    X_train_random = np.concatenate((X_false_random, X_train_true)) # 3320 False, 3226 True\n",
    "    y_train_random = np.concatenate((y_false_random, y_train_true))\n",
    "    \n",
    "    # Do a grid search to train the log regression model:\n",
    "    clf_rand = RandomForestClassifier(max_features=2, n_estimators=200, random_state=j, \n",
    "                                          oob_score=True, max_depth=3)\n",
    "    clf_rand.fit(X_train_random, y_train_random)\n",
    "    \n",
    "    # Vote (predict) on the test set and then apply weight based on accuracy:\n",
    "    prediction = clf_rand.predict(X_test_folds)\n",
    "    vote = np.array(prediction, dtype=float) # Individual vote\n",
    "    #accuracy = accuracy_score(prediction, y_test_folds)\n",
    "    acccuracy = clf_rand.oob_score_\n",
    "    vote_weighted = np.fromiter((accuracy_weighting(accuracy, v) for v in vote), float)\n",
    "    \n",
    "    # Save model, then place it and its vote inside the models and votes list for later:\n",
    "    joblib.dump(clf_rand, '{}rand_forest_ens_oob_noUN{}.pkl'.format(PKLPATH, str(j)))\n",
    "    models.append(joblib.load('{}rand_forest_ens_oob_noUN{}.pkl'.format(PKLPATH, str(j))))\n",
    "    votes.append(vote_weighted)\n",
    "\n",
    "# Now we have all of the models and votes collected, so we can create the ensemble vote:\n",
    "ensemble_vote = np.sum(votes, axis=0)\n",
    "ensemble_predict = np.zeros(len(ensemble_vote), dtype=bool)\n",
    "for index, vote in enumerate(ensemble_vote):\n",
    "    if vote >= 500.0:\n",
    "        ensemble_predict[index] = True\n",
    "\n",
    "# Finally, let's calculate the relevant metrics:\n",
    "print('Accuracy for full ensemble: {}\\n'.format(accuracy_score(ensemble_predict, y_test_folds)))\n",
    "print('Confusion Matrix: \\n')\n",
    "print(confusion_matrix(ensemble_predict, y_test_folds))\n",
    "print('\\n')\n",
    "print(\"[Test Classification Report:]\")\n",
    "print(classification_report(y_test_folds, ensemble_predict))"
   ]
  },
  {
   "cell_type": "code",
   "execution_count": 12,
   "metadata": {
    "collapsed": false
   },
   "outputs": [
    {
     "data": {
      "image/png": "[encoded data removed]",
      "text/plain": [
       "<matplotlib.figure.Figure at 0x118b87d30>"
      ]
     },
     "metadata": {},
     "output_type": "display_data"
    }
   ],
   "source": [
    "# Plot the distribution of ensemble votes:\n",
    "fig, axes = plt.subplots(figsize=(10,8))\n",
    "_ = axes.hist(ensemble_vote, bins=10)\n",
    "_ = axes.set_xlabel('Vote Values', fontsize=16)\n",
    "_ = axes.set_ylabel('Log Distribution', fontsize=16)\n",
    "_ = axes.set_yscale('log')\n",
    "_ = plt.title('Log Distribution of Ensemble Votes', fontsize=18)\n",
    "plt.show()"
   ]
  },
  {
   "cell_type": "markdown",
   "metadata": {},
   "source": [
    "Last thing to try: I am using the standard deviation of votes in the model, which is potentially problematic. What if I got rid of it as a feature? Let's try that and see if we significantly lose out on accuracy:"
   ]
  },
  {
   "cell_type": "code",
   "execution_count": 13,
   "metadata": {
    "collapsed": false
   },
   "outputs": [],
   "source": [
    "# First, let's separate out the different classes in the dataset:\n",
    "noNaN_DF = noNaN_DF.drop(['Target'], axis=1)\n",
    "target.name = 'Target'\n",
    "noNaN_DF = pd.concat([noNaN_DF, target], axis=1)\n",
    "trues = noNaN_DF.loc[noNaN_DF.Target==True]\n",
    "falses = noNaN_DF.loc[noNaN_DF.Target==False]\n",
    "trues_y = trues['Target']\n",
    "falses_y = falses['Target']\n",
    "trues_X = trues.drop(['Standard Dev', 'ID Num', 'User Number', 'Rating', 'Target'], axis=1)\n",
    "falses_X = falses.drop(['Standard Dev', 'ID Num', 'User Number', 'Rating', 'Target'], axis=1)"
   ]
  },
  {
   "cell_type": "code",
   "execution_count": 14,
   "metadata": {
    "collapsed": false
   },
   "outputs": [
    {
     "name": "stdout",
     "output_type": "stream",
     "text": [
      "Accuracy for full ensemble: 0.6938833570412518\n",
      "\n",
      "Confusion Matrix: \n",
      "\n",
      "[[1926  258]\n",
      " [ 818  513]]\n",
      "\n",
      "\n",
      "[Test Classification Report:]\n",
      "             precision    recall  f1-score   support\n",
      "\n",
      "      False       0.88      0.70      0.78      2744\n",
      "       True       0.39      0.67      0.49       771\n",
      "\n",
      "avg / total       0.77      0.69      0.72      3515\n",
      "\n"
     ]
    }
   ],
   "source": [
    "# Do a 80-20 train-test-split on trues and falses to build the test set:\n",
    "X_train_true, X_test_true, y_train_true, y_test_true = train_test_split(trues_X.values, \n",
    "                                                    trues_y.values, test_size=0.2, random_state=42)\n",
    "X_train_false, X_test_false, y_train_false, y_test_false = train_test_split(falses_X.values, \n",
    "                                                    falses_y.values, test_size=0.2, random_state=42)\n",
    "X_test_folds = np.concatenate((X_test_true, X_test_false))\n",
    "y_test_folds = np.concatenate((y_test_true, y_test_false))\n",
    "\n",
    "# Now to initialize relevant path and lists:\n",
    "PKLPATH = 'pkl_files/'\n",
    "models = []\n",
    "votes = []\n",
    "\n",
    "# Build & train classifiers, then have them vote, saving results along the way:\n",
    "for j in range(1000):\n",
    "    # Use train-test-split to grab a random 26% assortment of remaining training data:\n",
    "    X_false_random, _1, y_false_random, _2 = train_test_split(X_train_false, \n",
    "                                                    y_train_false, test_size=0.74, random_state=j)\n",
    "    X_train_random = np.concatenate((X_false_random, X_train_true)) # 3320 False, 3226 True\n",
    "    y_train_random = np.concatenate((y_false_random, y_train_true))\n",
    "    \n",
    "    # Do a grid search to train the log regression model:\n",
    "    clf_rand = RandomForestClassifier(max_features=2, n_estimators=200, random_state=j, \n",
    "                                          oob_score=True, max_depth=3)\n",
    "    clf_rand.fit(X_train_random, y_train_random)\n",
    "    \n",
    "    # Vote (predict) on the test set and then apply weight based on accuracy:\n",
    "    prediction = clf_rand.predict(X_test_folds)\n",
    "    vote = np.array(prediction, dtype=float) # Individual vote\n",
    "    #accuracy = accuracy_score(prediction, y_test_folds)\n",
    "    acccuracy = clf_rand.oob_score_\n",
    "    vote_weighted = np.fromiter((accuracy_weighting(accuracy, v) for v in vote), float)\n",
    "    \n",
    "    # Save model, then place it and its vote inside the models and votes list for later:\n",
    "    joblib.dump(clf_rand, '{}rand_forest_ens_oob_nostd{}.pkl'.format(PKLPATH, str(j)))\n",
    "    models.append(joblib.load('{}rand_forest_ens_oob_nostd{}.pkl'.format(PKLPATH, str(j))))\n",
    "    votes.append(vote_weighted)\n",
    "\n",
    "# Now we have all of the models and votes collected, so we can create the ensemble vote:\n",
    "ensemble_vote = np.sum(votes, axis=0)\n",
    "ensemble_predict = np.zeros(len(ensemble_vote), dtype=bool)\n",
    "for index, vote in enumerate(ensemble_vote):\n",
    "    if vote >= 500.0:\n",
    "        ensemble_predict[index] = True\n",
    "\n",
    "# Finally, let's calculate the relevant metrics:\n",
    "print('Accuracy for full ensemble: {}\\n'.format(accuracy_score(ensemble_predict, y_test_folds)))\n",
    "print('Confusion Matrix: \\n')\n",
    "print(confusion_matrix(ensemble_predict, y_test_folds))\n",
    "print('\\n')\n",
    "print(\"[Test Classification Report:]\")\n",
    "print(classification_report(y_test_folds, ensemble_predict))"
   ]
  },
  {
   "cell_type": "code",
   "execution_count": 15,
   "metadata": {
    "collapsed": false
   },
   "outputs": [
    {
     "data": {
      "image/png": "[encoded data removed]",
      "text/plain": [
       "<matplotlib.figure.Figure at 0x14db59c88>"
      ]
     },
     "metadata": {},
     "output_type": "display_data"
    }
   ],
   "source": [
    "# Plot the distribution of ensemble votes:\n",
    "fig, axes = plt.subplots(figsize=(10,8))\n",
    "_ = axes.hist(ensemble_vote, bins=10)\n",
    "_ = axes.set_xlabel('Vote Values', fontsize=16)\n",
    "_ = axes.set_ylabel('Log Distribution', fontsize=16)\n",
    "_ = axes.set_yscale('log')\n",
    "_ = plt.title('Log Distribution of Ensemble Votes', fontsize=18)\n",
    "plt.show()"
   ]
  },
  {
   "cell_type": "code",
   "execution_count": 35,
   "metadata": {
    "collapsed": false
   },
   "outputs": [
    {
     "name": "stdout",
     "output_type": "stream",
     "text": [
      "Accuracy for full ensemble: 0.8990252436890778\n",
      "\n",
      "Confusion Matrix: \n",
      "\n",
      "[[2812   22]\n",
      " [ 382  785]]\n",
      "\n",
      "\n",
      "[Test Classification Report:]\n",
      "             precision    recall  f1-score   support\n",
      "\n",
      "      False       0.99      0.88      0.93      3194\n",
      "       True       0.67      0.97      0.80       807\n",
      "\n",
      "avg / total       0.93      0.90      0.91      4001\n",
      "\n"
     ]
    }
   ],
   "source": [
    "trues = noNaN_DF.loc[noNaN_DF.Target==True]\n",
    "falses = noNaN_DF.loc[noNaN_DF.Target==False]\n",
    "trues_y = trues['Target']\n",
    "trues_X = trues.drop(['ID Num', 'Rating', 'Target'], axis=1)\n",
    "falses_y = falses['Target']\n",
    "falses_X = falses.drop(['ID Num', 'Rating', 'Target'], axis=1)\n",
    "\n",
    "# Do a 80-20 train-test-split on trues and falses to build the test set:\n",
    "X_train_true, X_test_true, y_train_true, y_test_true = train_test_split(trues_X.values, \n",
    "                                                    trues_y.values, test_size=0.2, random_state=42)\n",
    "X_train_false, X_test_false, y_train_false, y_test_false = train_test_split(falses_X.values, \n",
    "                                                    falses_y.values, test_size=0.2, random_state=42)\n",
    "X_test_folds = np.concatenate((X_test_true, X_test_false))\n",
    "y_test_folds = np.concatenate((y_test_true, y_test_false))\n",
    "\n",
    "# Now to initialize relevant path and lists:\n",
    "PKLPATH = 'pkl_files/'\n",
    "models = []\n",
    "votes = []\n",
    "\n",
    "# Build & train classifiers, then have them vote, saving results along the way:\n",
    "for j in range(1000):\n",
    "    # Use train-test-split to grab a random 26% assortment of remaining training data:\n",
    "    X_false_random, _1, y_false_random, _2 = train_test_split(X_train_false, \n",
    "                                                    y_train_false, test_size=0.74, random_state=j)\n",
    "    X_train_random = np.concatenate((X_false_random, X_train_true)) # 3320 False, 3226 True\n",
    "    y_train_random = np.concatenate((y_false_random, y_train_true))\n",
    "    \n",
    "    # Do a grid search to train the log regression model:\n",
    "    clf_rand = RandomForestClassifier(max_features=2, n_estimators=200, random_state=j, \n",
    "                                          oob_score=True, max_depth=3)\n",
    "    clf_rand.fit(X_train_random, y_train_random)\n",
    "    \n",
    "    # Vote (predict) on the test set and then apply weight based on accuracy:\n",
    "    prediction = clf_rand.predict(X_test_folds)\n",
    "    vote = np.array(prediction, dtype=float) # Individual vote\n",
    "    #accuracy = accuracy_score(prediction, y_test_folds)\n",
    "    acccuracy = clf_rand.oob_score_\n",
    "    vote_weighted = np.fromiter((accuracy_weighting(accuracy, v) for v in vote), float)\n",
    "    \n",
    "    # Save model, then place it and its vote inside the models and votes list for later:\n",
    "    joblib.dump(clf_rand, '{}rand_forest_ens_oob{}.pkl'.format(PKLPATH, str(j)))\n",
    "    models.append(joblib.load('{}rand_forest_ens_oob{}.pkl'.format(PKLPATH, str(j))))\n",
    "    votes.append(vote_weighted)\n",
    "\n",
    "# Now we have all of the models and votes collected, so we can create the ensemble vote:\n",
    "ensemble_vote = np.sum(votes, axis=0)\n",
    "ensemble_predict = np.zeros(len(ensemble_vote), dtype=bool)\n",
    "for index, vote in enumerate(ensemble_vote):\n",
    "    if vote >= 500.0:\n",
    "        ensemble_predict[index] = True\n",
    "\n",
    "# Finally, let's calculate the relevant metrics:\n",
    "print('Accuracy for full ensemble: {}\\n'.format(accuracy_score(ensemble_predict, y_test_folds)))\n",
    "print('Confusion Matrix: \\n')\n",
    "print(confusion_matrix(ensemble_predict, y_test_folds))\n",
    "print('\\n')\n",
    "print(\"[Test Classification Report:]\")\n",
    "print(classification_report(y_test_folds, ensemble_predict))"
   ]
  },
  {
   "cell_type": "code",
   "execution_count": 36,
   "metadata": {
    "collapsed": false
   },
   "outputs": [
    {
     "data": {
      "image/png": "[encoded data removed]",
      "text/plain": [
       "<matplotlib.figure.Figure at 0x12a29f668>"
      ]
     },
     "metadata": {},
     "output_type": "display_data"
    }
   ],
   "source": [
    "# Plot the distribution of ensemble votes:\n",
    "fig, axes = plt.subplots(figsize=(10,8))\n",
    "_ = axes.hist(ensemble_vote, bins=10)\n",
    "_ = axes.set_xlabel('Vote Values', fontsize=16)\n",
    "_ = axes.set_ylabel('Log Distribution', fontsize=16)\n",
    "_ = axes.set_yscale('log')\n",
    "_ = plt.title('Log Distribution of Ensemble Votes', fontsize=18)\n",
    "plt.show()"
   ]
  },
  {
   "cell_type": "markdown",
   "metadata": {},
   "source": [
    "## Redoing SMOTE for fewer features"
   ]
  },
  {
   "cell_type": "code",
   "execution_count": 16,
   "metadata": {
    "collapsed": false
   },
   "outputs": [
    {
     "name": "stdout",
     "output_type": "stream",
     "text": [
      "Index(['Weight', 'Min Playtime', 'Max Playtime', 'Year Published', 'Min Players', 'Max Players'], dtype='object')\n"
     ]
    }
   ],
   "source": [
    "ratings = noNaN_DF['Rating']\n",
    "target = ratings.apply(lambda x: x >= 5.84)\n",
    "features = noNaN_DF.drop(['Standard Dev', 'ID Num', 'User Number', 'Rating', 'Target'], axis=1)\n",
    "print(features.columns)"
   ]
  },
  {
   "cell_type": "code",
   "execution_count": 17,
   "metadata": {
    "collapsed": false
   },
   "outputs": [
    {
     "name": "stdout",
     "output_type": "stream",
     "text": [
      "SMOTE Algorithm: regular\n",
      "--------------------------------------\n",
      "Accuracy score: 0.6858600583090378\n",
      "\n",
      "[[2936 1363]\n",
      " [1223 2710]]\n",
      "\n",
      "\n",
      "[Training Classification Report:]\n",
      "             precision    recall  f1-score   support\n",
      "\n",
      "      False       0.69      0.70      0.69      9560\n",
      "       True       0.70      0.68      0.69      9646\n",
      "\n",
      "avg / total       0.69      0.69      0.69     19206\n",
      "\n",
      "[Test Classification Report:]\n",
      "             precision    recall  f1-score   support\n",
      "\n",
      "      False       0.68      0.71      0.69      4159\n",
      "       True       0.69      0.67      0.68      4073\n",
      "\n",
      "avg / total       0.69      0.69      0.69      8232\n",
      "\n",
      "SMOTE Algorithm: borderline1\n",
      "--------------------------------------\n",
      "Accuracy score: 0.6884110787172012\n",
      "\n",
      "[[2951 1357]\n",
      " [1208 2716]]\n",
      "\n",
      "\n",
      "[Training Classification Report:]\n",
      "             precision    recall  f1-score   support\n",
      "\n",
      "      False       0.67      0.70      0.69      9560\n",
      "       True       0.69      0.66      0.67      9646\n",
      "\n",
      "avg / total       0.68      0.68      0.68     19206\n",
      "\n",
      "[Test Classification Report:]\n",
      "             precision    recall  f1-score   support\n",
      "\n",
      "      False       0.69      0.71      0.70      4159\n",
      "       True       0.69      0.67      0.68      4073\n",
      "\n",
      "avg / total       0.69      0.69      0.69      8232\n",
      "\n",
      "SMOTE Algorithm: borderline2\n",
      "--------------------------------------\n",
      "Accuracy score: 0.6967930029154519\n",
      "\n",
      "[[2871 1208]\n",
      " [1288 2865]]\n",
      "\n",
      "\n",
      "[Training Classification Report:]\n",
      "             precision    recall  f1-score   support\n",
      "\n",
      "      False       0.69      0.68      0.69      9560\n",
      "       True       0.69      0.70      0.70      9646\n",
      "\n",
      "avg / total       0.69      0.69      0.69     19206\n",
      "\n",
      "[Test Classification Report:]\n",
      "             precision    recall  f1-score   support\n",
      "\n",
      "      False       0.70      0.69      0.70      4159\n",
      "       True       0.69      0.70      0.70      4073\n",
      "\n",
      "avg / total       0.70      0.70      0.70      8232\n",
      "\n",
      "SMOTE Algorithm: svm\n",
      "--------------------------------------\n",
      "Accuracy score: 0.722910592808552\n",
      "\n",
      "[[2942 1064]\n",
      " [1217 3009]]\n",
      "\n",
      "\n",
      "[Training Classification Report:]\n",
      "             precision    recall  f1-score   support\n",
      "\n",
      "      False       0.72      0.70      0.71      9560\n",
      "       True       0.71      0.72      0.72      9646\n",
      "\n",
      "avg / total       0.71      0.71      0.71     19206\n",
      "\n",
      "[Test Classification Report:]\n",
      "             precision    recall  f1-score   support\n",
      "\n",
      "      False       0.73      0.71      0.72      4159\n",
      "       True       0.71      0.74      0.73      4073\n",
      "\n",
      "avg / total       0.72      0.72      0.72      8232\n",
      "\n"
     ]
    }
   ],
   "source": [
    "# Establish data set features and target:\n",
    "X_before = features.values\n",
    "y_before = target.values\n",
    "\n",
    "# There are 4 different SMOTE algorithms, so let's try each one:\n",
    "kinds = ['regular', 'borderline1', 'borderline2', 'svm']\n",
    "for k in kinds:\n",
    "    \n",
    "    # Use SMOTE to generate synthetic samples of the minority class:\n",
    "    sm = SMOTE(kind=k, random_state=42)  # Without an input ratio, will generate until equal representation\n",
    "    X_after, y_after = sm.fit_sample(X_before, y_before)\n",
    "    print('SMOTE Algorithm: {}'.format(k))\n",
    "    print('--------------------------------------')\n",
    "\n",
    "    # Do a train-test split of 70-30 on the new dataset:\n",
    "    X_train_res, X_test_res, y_train_res, y_test_res = train_test_split(X_after, y_after, \n",
    "                                                    test_size=0.3, random_state=42)\n",
    "    \n",
    "    # Train the random forest classifier using the same grid search as before:\n",
    "    randfor = RandomForestClassifier(random_state=42)\n",
    "    clf_smote = GridSearchCV(randfor, {'n_estimators': n_estimates, 'max_features': max_feats, 'max_depth': max_depth}\n",
    "                            , cv=5, scoring='accuracy')\n",
    "    clf_smote.fit(X_train_res, y_train_res)\n",
    "    \n",
    "    # Predict using best results then calculate the metrics:\n",
    "    y_predict_train_res = clf_smote.predict(X_train_res)\n",
    "    y_predict_test_res = clf_smote.predict(X_test_res)\n",
    "    \n",
    "    accuracy = accuracy_score(y_predict_test_res, y_test_res)\n",
    "    print('Accuracy score: {}\\n'.format(accuracy))\n",
    "    print(confusion_matrix(y_predict_test_res, y_test_res))\n",
    "    print('\\n')\n",
    "    print(\"[Training Classification Report:]\")\n",
    "    print(classification_report(y_train_res, y_predict_train_res))\n",
    "    \n",
    "    print(\"[Test Classification Report:]\")\n",
    "    print(classification_report(y_test_res, y_predict_test_res))"
   ]
  },
  {
   "cell_type": "code",
   "execution_count": 18,
   "metadata": {
    "collapsed": false
   },
   "outputs": [
    {
     "name": "stdout",
     "output_type": "stream",
     "text": [
      "Best parameters for n_estimators, max_features, and max_depth: \n",
      "\n",
      "{'max_depth': 3, 'max_features': 2, 'n_estimators': 150} 0.7119129438717068\n"
     ]
    }
   ],
   "source": [
    "print('Best parameters for n_estimators, max_features, and max_depth: \\n')\n",
    "print(clf_smote.best_params_, clf_smote.best_score_)"
   ]
  },
  {
   "cell_type": "code",
   "execution_count": 19,
   "metadata": {
    "collapsed": false
   },
   "outputs": [
    {
     "name": "stdout",
     "output_type": "stream",
     "text": [
      "(17574, 6) (17574,)\n",
      "(12301, 6) (5273, 6)\n",
      "(19198, 6)\n",
      "SMOTE Algorithm: regular\n",
      "--------------------------------------\n",
      "Accuracy score: 0.6887919590366015\n",
      "\n",
      "[[2888  409]\n",
      " [1232  744]]\n",
      "\n",
      "\n",
      "[Training Classification Report:]\n",
      "             precision    recall  f1-score   support\n",
      "\n",
      "      False       0.69      0.70      0.70      9599\n",
      "       True       0.70      0.68      0.69      9599\n",
      "\n",
      "avg / total       0.69      0.69      0.69     19198\n",
      "\n",
      "[Test Classification Report:]\n",
      "             precision    recall  f1-score   support\n",
      "\n",
      "      False       0.88      0.70      0.78      4120\n",
      "       True       0.38      0.65      0.48      1153\n",
      "\n",
      "avg / total       0.77      0.69      0.71      5273\n",
      "\n",
      "(19198, 6)\n",
      "SMOTE Algorithm: borderline1\n",
      "--------------------------------------\n",
      "Accuracy score: 0.6853783424995259\n",
      "\n",
      "[[2866  405]\n",
      " [1254  748]]\n",
      "\n",
      "\n",
      "[Training Classification Report:]\n",
      "             precision    recall  f1-score   support\n",
      "\n",
      "      False       0.68      0.70      0.69      9599\n",
      "       True       0.69      0.67      0.68      9599\n",
      "\n",
      "avg / total       0.68      0.68      0.68     19198\n",
      "\n",
      "[Test Classification Report:]\n",
      "             precision    recall  f1-score   support\n",
      "\n",
      "      False       0.88      0.70      0.78      4120\n",
      "       True       0.37      0.65      0.47      1153\n",
      "\n",
      "avg / total       0.77      0.69      0.71      5273\n",
      "\n",
      "(19198, 6)\n",
      "SMOTE Algorithm: borderline2\n",
      "--------------------------------------\n",
      "Accuracy score: 0.6863265693153803\n",
      "\n",
      "[[2882  416]\n",
      " [1238  737]]\n",
      "\n",
      "\n",
      "[Training Classification Report:]\n",
      "             precision    recall  f1-score   support\n",
      "\n",
      "      False       0.69      0.71      0.70      9599\n",
      "       True       0.70      0.68      0.69      9599\n",
      "\n",
      "avg / total       0.70      0.70      0.70     19198\n",
      "\n",
      "[Test Classification Report:]\n",
      "             precision    recall  f1-score   support\n",
      "\n",
      "      False       0.87      0.70      0.78      4120\n",
      "       True       0.37      0.64      0.47      1153\n",
      "\n",
      "avg / total       0.76      0.69      0.71      5273\n",
      "\n",
      "(19198, 6)\n",
      "SMOTE Algorithm: svm\n",
      "--------------------------------------\n",
      "Accuracy score: 0.6870851507680638\n",
      "\n",
      "[[2876  406]\n",
      " [1244  747]]\n",
      "\n",
      "\n",
      "[Training Classification Report:]\n",
      "             precision    recall  f1-score   support\n",
      "\n",
      "      False       0.73      0.70      0.71      9599\n",
      "       True       0.71      0.74      0.73      9599\n",
      "\n",
      "avg / total       0.72      0.72      0.72     19198\n",
      "\n",
      "[Test Classification Report:]\n",
      "             precision    recall  f1-score   support\n",
      "\n",
      "      False       0.88      0.70      0.78      4120\n",
      "       True       0.38      0.65      0.48      1153\n",
      "\n",
      "avg / total       0.77      0.69      0.71      5273\n",
      "\n"
     ]
    }
   ],
   "source": [
    "# Establish data set features and target:\n",
    "X_before = features.values\n",
    "y_before = target.values\n",
    "print(X_before.shape, y_before.shape)\n",
    "# Do a train-test split of 70-30 on the new dataset:\n",
    "X_train_before, X_test_res, y_train_before, y_test_res = train_test_split(X_before, y_before, \n",
    "                                                test_size=0.3, random_state=42)\n",
    "print(X_train_before.shape, X_test_res.shape)\n",
    "# There are 4 different SMOTE algorithms, so let's try each one:\n",
    "kinds = ['regular', 'borderline1', 'borderline2', 'svm']\n",
    "for k in kinds:\n",
    "    \n",
    "    # Use SMOTE to generate synthetic samples of the minority class:\n",
    "    sm = SMOTE(kind=k, random_state=42)  # Without an input ratio, will generate until equal representation\n",
    "    X_train_res, y_train_res = sm.fit_sample(X_train_before, y_train_before)\n",
    "    print(X_train_res.shape)\n",
    "    print('SMOTE Algorithm: {}'.format(k))\n",
    "    print('--------------------------------------')\n",
    "    \n",
    "    # Train the random forest classifier using the same grid search as before:\n",
    "    randfor = RandomForestClassifier(random_state=42)\n",
    "    clf_smote = GridSearchCV(randfor, {'n_estimators': n_estimates, 'max_features': max_feats, 'max_depth': max_depth}\n",
    "                            , cv=5, scoring='accuracy')\n",
    "    clf_smote.fit(X_train_res, y_train_res)\n",
    "    \n",
    "    # Predict using best results then calculate the metrics:\n",
    "    y_predict_train_res = clf_smote.predict(X_train_res)\n",
    "    y_predict_test_res = clf_smote.predict(X_test_res)\n",
    "    \n",
    "    accuracy = accuracy_score(y_predict_test_res, y_test_res)\n",
    "    print('Accuracy score: {}\\n'.format(accuracy))\n",
    "    print(confusion_matrix(y_predict_test_res, y_test_res))\n",
    "    print('\\n')\n",
    "    print(\"[Training Classification Report:]\")\n",
    "    print(classification_report(y_train_res, y_predict_train_res))\n",
    "    \n",
    "    print(\"[Test Classification Report:]\")\n",
    "    print(classification_report(y_test_res, y_predict_test_res))"
   ]
  },
  {
   "cell_type": "code",
   "execution_count": 46,
   "metadata": {
    "collapsed": false
   },
   "outputs": [
    {
     "name": "stdout",
     "output_type": "stream",
     "text": [
      "[False False  True ...  True  True  True]\n",
      "[   2    4    8 ... 5997 5998 5999]\n"
     ]
    }
   ],
   "source": [
    "# Get the ratings for the test set used in the last SMOTE algorithm:\n",
    "_, X_test_res, __, y_test_rate = train_test_split(X_before, ratings.values, \n",
    "                                                test_size=0.3, random_state=42)\n",
    "\n",
    "print(y_predict_test_res)\n",
    "test_true_ind = np.where(y_predict_test_res==True)[0]\n",
    "print(test_true_ind)\n",
    "ratings_true = y_test_rate[test_true_ind]"
   ]
  },
  {
   "cell_type": "code",
   "execution_count": 47,
   "metadata": {
    "collapsed": false
   },
   "outputs": [
    {
     "name": "stdout",
     "output_type": "stream",
     "text": [
      "8.10634 5.26241\n"
     ]
    }
   ],
   "source": [
    "print(ratings_true.max(), ratings_true.min())"
   ]
  },
  {
   "cell_type": "code",
   "execution_count": 49,
   "metadata": {
    "collapsed": false
   },
   "outputs": [
    {
     "data": {
      "image/png": "[encoded data removed]",
      "text/plain": [
       "<matplotlib.figure.Figure at 0x13c677dd8>"
      ]
     },
     "metadata": {},
     "output_type": "display_data"
    }
   ],
   "source": [
    "hist = np.histogram(ratings_true, bins=(5,5.524,5.581,5.84,8.2))\n",
    "percents = hist[0]/np.sum(hist[0])\n",
    "fig, axes = plt.subplots(figsize=(10,8))\n",
    "#_ = axes.hist(ratings_true_pred, bins=[5,5.524,5.581,5.84,8.1])\n",
    "rects = axes.bar(range(4), percents, width=1)\n",
    "xticks = ['0-25', '25-50', '50-80', '80-100']\n",
    "for rect in rects:\n",
    "    height = float(rect.get_height())\n",
    "    _ = axes.text(rect.get_x() + rect.get_width()/2., 1.001*height,\n",
    "                '{:.2f}%'.format(height*100), ha='center', va='bottom', size=14)\n",
    "_ = plt.xticks(np.arange(0,4), xticks, size=14)\n",
    "_ = axes.set_xlabel('Rating Percentile Bins', fontsize=16)\n",
    "_ = axes.set_ylabel('Distribution', fontsize=16)\n",
    "_ = axes.set_ylim([0.0, 0.4])\n",
    "_ = plt.title('Ratings Distribution for Predicted Successes - SMOTE', fontsize=18)\n",
    "plt.show()"
   ]
  },
  {
   "cell_type": "code",
   "execution_count": 53,
   "metadata": {
    "collapsed": false
   },
   "outputs": [
    {
     "data": {
      "image/png": "[encoded data removed]",
      "text/plain": [
       "<matplotlib.figure.Figure at 0x12df2f080>"
      ]
     },
     "metadata": {},
     "output_type": "display_data"
    }
   ],
   "source": [
    "hist = np.histogram(ratings_true, bins=(np.percentile(noNaN_DF.Rating, 0),np.percentile(noNaN_DF.Rating, 10),\n",
    "                                   np.percentile(noNaN_DF.Rating, 20),np.percentile(noNaN_DF.Rating, 30),\n",
    "                                   np.percentile(noNaN_DF.Rating, 40),np.percentile(noNaN_DF.Rating, 50),\n",
    "                                   np.percentile(noNaN_DF.Rating, 60),np.percentile(noNaN_DF.Rating, 70),\n",
    "                                   np.percentile(noNaN_DF.Rating, 80),np.percentile(noNaN_DF.Rating, 90),\n",
    "                                   np.percentile(noNaN_DF.Rating, 100)))\n",
    "percents = hist[0]/np.sum(hist[0])\n",
    "fig, axes = plt.subplots(figsize=(10,8))\n",
    "#_ = axes.hist(ratings_true_pred, bins=[5,5.524,5.581,5.84,8.1])\n",
    "rects = axes.bar(range(0,40,4), percents, width=4)\n",
    "xticks = ['0-10', '10-20', '20-30', '30-40', '40-50', '50-60', '60-70', '70-80',\n",
    "          '80-90', '90-100']\n",
    "for rect in rects:\n",
    "    height = float(rect.get_height())\n",
    "    _ = axes.text(rect.get_x() + rect.get_width()/2., 1.001*height,\n",
    "                '{:.2f}%'.format(height*100), ha='center', va='bottom', size=14)\n",
    "_ = plt.xticks(np.arange(0,40,4), xticks, size=14)\n",
    "_ = axes.set_xlabel('Rating Percentile Bins', fontsize=16)\n",
    "_ = axes.set_ylabel('Distribution', fontsize=16)\n",
    "_ = axes.set_ylim([0.0, 0.23])\n",
    "_ = plt.title('Ratings Distribution for Predicted Successes - SMOTE', fontsize=18)\n",
    "plt.show()"
   ]
  },
  {
   "cell_type": "code",
   "execution_count": null,
   "metadata": {
    "collapsed": true
   },
   "outputs": [],
   "source": []
  }
 ],
 "metadata": {
  "kernelspec": {
   "display_name": "Python 3",
   "language": "python",
   "name": "python3"
  },
  "language_info": {
   "codemirror_mode": {
    "name": "ipython",
    "version": 3
   },
   "file_extension": ".py",
   "mimetype": "text/x-python",
   "name": "python",
   "nbconvert_exporter": "python",
   "pygments_lexer": "ipython3",
   "version": "3.4.5"
  }
 },
 "nbformat": 4,
 "nbformat_minor": 2
}
