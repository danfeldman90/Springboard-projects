{
 "cells": [
  {
   "cell_type": "markdown",
   "metadata": {},
   "source": [
    "This notebook is what I'm using to try and collect my thoughts and statistics regarding the models I've utilized for the Board Game Capstone Project. I'd like to look at which games were predicted to be successes, and what the distribution of those games looks like."
   ]
  },
  {
   "cell_type": "code",
   "execution_count": 2,
   "metadata": {
    "collapsed": false
   },
   "outputs": [
    {
     "ename": "EOFError",
     "evalue": "",
     "output_type": "error",
     "traceback": [
      "\u001b[0;31m---------------------------------------------------------------------------\u001b[0m",
      "\u001b[0;31mEOFError\u001b[0m                                  Traceback (most recent call last)",
      "\u001b[0;32m<ipython-input-2-6655d114c56e>\u001b[0m in \u001b[0;36m<module>\u001b[0;34m()\u001b[0m\n\u001b[1;32m     28\u001b[0m \u001b[0mmodels\u001b[0m \u001b[0;34m=\u001b[0m \u001b[0;34m[\u001b[0m\u001b[0;34m]\u001b[0m\u001b[0;34m\u001b[0m\u001b[0m\n\u001b[1;32m     29\u001b[0m \u001b[0;32mfor\u001b[0m \u001b[0mi\u001b[0m \u001b[0;32min\u001b[0m \u001b[0mrange\u001b[0m\u001b[0;34m(\u001b[0m\u001b[0;36m1000\u001b[0m\u001b[0;34m)\u001b[0m\u001b[0;34m:\u001b[0m\u001b[0;34m\u001b[0m\u001b[0m\n\u001b[0;32m---> 30\u001b[0;31m     \u001b[0mmodels\u001b[0m\u001b[0;34m.\u001b[0m\u001b[0mappend\u001b[0m\u001b[0;34m(\u001b[0m\u001b[0mjoblib\u001b[0m\u001b[0;34m.\u001b[0m\u001b[0mload\u001b[0m\u001b[0;34m(\u001b[0m\u001b[0;34m'{}rand_forest_ens_oob_nostd{}.pkl'\u001b[0m\u001b[0;34m.\u001b[0m\u001b[0mformat\u001b[0m\u001b[0;34m(\u001b[0m\u001b[0mPKLPATH\u001b[0m\u001b[0;34m,\u001b[0m \u001b[0mstr\u001b[0m\u001b[0;34m(\u001b[0m\u001b[0mi\u001b[0m\u001b[0;34m)\u001b[0m\u001b[0;34m)\u001b[0m\u001b[0;34m)\u001b[0m\u001b[0;34m)\u001b[0m\u001b[0;34m\u001b[0m\u001b[0m\n\u001b[0m",
      "\u001b[0;32m/Users/danielfeldman/.local/lib/python3.4/site-packages/sklearn/externals/joblib/numpy_pickle.py\u001b[0m in \u001b[0;36mload\u001b[0;34m(filename, mmap_mode)\u001b[0m\n\u001b[1;32m    576\u001b[0m                     \u001b[0;32mreturn\u001b[0m \u001b[0mload_compatibility\u001b[0m\u001b[0;34m(\u001b[0m\u001b[0mfobj\u001b[0m\u001b[0;34m)\u001b[0m\u001b[0;34m\u001b[0m\u001b[0m\n\u001b[1;32m    577\u001b[0m \u001b[0;34m\u001b[0m\u001b[0m\n\u001b[0;32m--> 578\u001b[0;31m                 \u001b[0mobj\u001b[0m \u001b[0;34m=\u001b[0m \u001b[0m_unpickle\u001b[0m\u001b[0;34m(\u001b[0m\u001b[0mfobj\u001b[0m\u001b[0;34m,\u001b[0m \u001b[0mfilename\u001b[0m\u001b[0;34m,\u001b[0m \u001b[0mmmap_mode\u001b[0m\u001b[0;34m)\u001b[0m\u001b[0;34m\u001b[0m\u001b[0m\n\u001b[0m\u001b[1;32m    579\u001b[0m \u001b[0;34m\u001b[0m\u001b[0m\n\u001b[1;32m    580\u001b[0m     \u001b[0;32mreturn\u001b[0m \u001b[0mobj\u001b[0m\u001b[0;34m\u001b[0m\u001b[0m\n",
      "\u001b[0;32m/Users/danielfeldman/.local/lib/python3.4/site-packages/sklearn/externals/joblib/numpy_pickle.py\u001b[0m in \u001b[0;36m_unpickle\u001b[0;34m(fobj, filename, mmap_mode)\u001b[0m\n\u001b[1;32m    506\u001b[0m     \u001b[0mobj\u001b[0m \u001b[0;34m=\u001b[0m \u001b[0;32mNone\u001b[0m\u001b[0;34m\u001b[0m\u001b[0m\n\u001b[1;32m    507\u001b[0m     \u001b[0;32mtry\u001b[0m\u001b[0;34m:\u001b[0m\u001b[0;34m\u001b[0m\u001b[0m\n\u001b[0;32m--> 508\u001b[0;31m         \u001b[0mobj\u001b[0m \u001b[0;34m=\u001b[0m \u001b[0munpickler\u001b[0m\u001b[0;34m.\u001b[0m\u001b[0mload\u001b[0m\u001b[0;34m(\u001b[0m\u001b[0;34m)\u001b[0m\u001b[0;34m\u001b[0m\u001b[0m\n\u001b[0m\u001b[1;32m    509\u001b[0m         \u001b[0;32mif\u001b[0m \u001b[0munpickler\u001b[0m\u001b[0;34m.\u001b[0m\u001b[0mcompat_mode\u001b[0m\u001b[0;34m:\u001b[0m\u001b[0;34m\u001b[0m\u001b[0m\n\u001b[1;32m    510\u001b[0m             warnings.warn(\"The file '%s' has been generated with a \"\n",
      "\u001b[0;32m/Users/danielfeldman/anaconda/lib/python3.4/pickle.py\u001b[0m in \u001b[0;36mload\u001b[0;34m(self)\u001b[0m\n\u001b[1;32m   1034\u001b[0m                 \u001b[0mkey\u001b[0m \u001b[0;34m=\u001b[0m \u001b[0mread\u001b[0m\u001b[0;34m(\u001b[0m\u001b[0;36m1\u001b[0m\u001b[0;34m)\u001b[0m\u001b[0;34m\u001b[0m\u001b[0m\n\u001b[1;32m   1035\u001b[0m                 \u001b[0;32mif\u001b[0m \u001b[0;32mnot\u001b[0m \u001b[0mkey\u001b[0m\u001b[0;34m:\u001b[0m\u001b[0;34m\u001b[0m\u001b[0m\n\u001b[0;32m-> 1036\u001b[0;31m                     \u001b[0;32mraise\u001b[0m \u001b[0mEOFError\u001b[0m\u001b[0;34m\u001b[0m\u001b[0m\n\u001b[0m\u001b[1;32m   1037\u001b[0m                 \u001b[0;32massert\u001b[0m \u001b[0misinstance\u001b[0m\u001b[0;34m(\u001b[0m\u001b[0mkey\u001b[0m\u001b[0;34m,\u001b[0m \u001b[0mbytes_types\u001b[0m\u001b[0;34m)\u001b[0m\u001b[0;34m\u001b[0m\u001b[0m\n\u001b[1;32m   1038\u001b[0m                 \u001b[0mdispatch\u001b[0m\u001b[0;34m[\u001b[0m\u001b[0mkey\u001b[0m\u001b[0;34m[\u001b[0m\u001b[0;36m0\u001b[0m\u001b[0;34m]\u001b[0m\u001b[0;34m]\u001b[0m\u001b[0;34m(\u001b[0m\u001b[0mself\u001b[0m\u001b[0;34m)\u001b[0m\u001b[0;34m\u001b[0m\u001b[0m\n",
      "\u001b[0;31mEOFError\u001b[0m: "
     ]
    }
   ],
   "source": [
    "import numpy as np\n",
    "import pandas as pd\n",
    "import matplotlib.pyplot as plt\n",
    "import pickle\n",
    "from sklearn.externals import joblib\n",
    "\n",
    "# Accuracy weighting function used in voting process:\n",
    "def accuracy_weighting(accuracy, vote):\n",
    "    \"\"\"\n",
    "    Determines the vote of a classifier based on its accuracy and\n",
    "    previous vote (0 or 1). If the vote was a 1, make it the \n",
    "    accuracy value instead. If a 0, do one minus the accuracy.\n",
    "    \"\"\"\n",
    "    if vote:\n",
    "        new_vote = accuracy\n",
    "    else:\n",
    "        new_vote = 1.0 - accuracy\n",
    "    return new_vote\n",
    "\n",
    "# Load in the dataframe and relevant ensemble model:\n",
    "with open('BGG_NoNaN_DF.pkl', 'rb') as f:\n",
    "    noNaN_DF = pickle.load(f)\n",
    "ratings = noNaN_DF['Rating']\n",
    "target = ratings.apply(lambda x: x >= 5.84)\n",
    "features = noNaN_DF.drop(['Rating', 'ID Num', 'User Number', 'Standard Dev'], axis=1)\n",
    "\n",
    "PKLPATH = 'pkl_files/'\n",
    "models = []\n",
    "for i in range(1000):\n",
    "    models.append(joblib.load('{}rand_forest_ens_oob_nostd{}.pkl'.format(PKLPATH, str(i))))"
   ]
  },
  {
   "cell_type": "code",
   "execution_count": 9,
   "metadata": {
    "collapsed": false
   },
   "outputs": [
    {
     "name": "stdout",
     "output_type": "stream",
     "text": [
      "Accuracy for full ensemble: 0.7013246688327918\n",
      "\n",
      "Confusion Matrix: \n",
      "\n",
      "[[2298  299]\n",
      " [ 896  508]]\n",
      "\n",
      "\n",
      "[Test Classification Report:]\n",
      "             precision    recall  f1-score   support\n",
      "\n",
      "      False       0.88      0.72      0.79      3194\n",
      "       True       0.36      0.63      0.46       807\n",
      "\n",
      "avg / total       0.78      0.70      0.73      4001\n",
      "\n"
     ]
    }
   ],
   "source": [
    "from sklearn.model_selection import train_test_split, GridSearchCV\n",
    "from sklearn.metrics import accuracy_score, classification_report, roc_curve, roc_auc_score, confusion_matrix\n",
    "from sklearn.ensemble import RandomForestClassifier\n",
    "\n",
    "# Redo the voting for statistics:\n",
    "# Separate target into 0s and 1s:\n",
    "#target.name = 'Target'\n",
    "#noNaN_DF = pd.concat([noNaN_DF, target], axis=1)\n",
    "trues = noNaN_DF.loc[noNaN_DF.Target==True]\n",
    "falses = noNaN_DF.loc[noNaN_DF.Target==False]\n",
    "trues_y = trues['Target']\n",
    "falses_y = falses['Target']\n",
    "trues_X = trues.drop(['Standard Dev', 'ID Num', 'User Number', 'Rating', 'Target'], axis=1)\n",
    "falses_X = falses.drop(['Standard Dev', 'ID Num', 'User Number', 'Rating', 'Target'], axis=1)\n",
    "\n",
    "# Do a 80-20 train-test-split on trues and falses to build the test set:\n",
    "X_train_true, X_test_true, y_train_true, y_test_true = train_test_split(trues_X.values, \n",
    "                                                    trues_y.values, test_size=0.2, random_state=42)\n",
    "X_train_false, X_test_false, y_train_false, y_test_false = train_test_split(falses_X.values, \n",
    "                                                    falses_y.values, test_size=0.2, random_state=42)\n",
    "X_test_folds = np.concatenate((X_test_true, X_test_false))\n",
    "y_test_folds = np.concatenate((y_test_true, y_test_false))\n",
    "\n",
    "# Revote:\n",
    "votes = []\n",
    "for model in models:\n",
    "    # Vote (predict) on the test set and then apply weight based on accuracy:\n",
    "    prediction = model.predict(X_test_folds)\n",
    "    vote = np.array(prediction, dtype=float) # Individual vote\n",
    "    accuracy = model.oob_score_\n",
    "    vote_weighted = np.fromiter((accuracy_weighting(accuracy, v) for v in vote), float)\n",
    "    votes.append(vote_weighted)\n",
    "\n",
    "# Calculate the ensemble vote:\n",
    "ensemble_vote = np.sum(votes, axis=0)\n",
    "ensemble_predict = np.zeros(len(ensemble_vote), dtype=bool)\n",
    "for index, vote in enumerate(ensemble_vote):\n",
    "    if vote >= 500.0:\n",
    "        ensemble_predict[index] = True\n",
    "\n",
    "# Finally, let's double-check the relevant metrics:\n",
    "print('Accuracy for full ensemble: {}\\n'.format(accuracy_score(ensemble_predict, y_test_folds)))\n",
    "print('Confusion Matrix: \\n')\n",
    "print(confusion_matrix(ensemble_predict, y_test_folds))\n",
    "print('\\n')\n",
    "print(\"[Test Classification Report:]\")\n",
    "print(classification_report(y_test_folds, ensemble_predict))"
   ]
  },
  {
   "cell_type": "code",
   "execution_count": 19,
   "metadata": {
    "collapsed": false
   },
   "outputs": [
    {
     "name": "stdout",
     "output_type": "stream",
     "text": [
      "1404\n"
     ]
    }
   ],
   "source": [
    "def find_entry(entry, db):\n",
    "    \n",
    "    for index, row in db.iterrows():\n",
    "        if row['Weight'] == entry[0]:\n",
    "            if row['Min Playtime'] == entry[1]:\n",
    "                if row['Max Playtime'] == entry[2]:\n",
    "                    if row['Year Published'] == entry[3]:\n",
    "                        if row['Min Players'] == entry[4]:\n",
    "                            if row['Max Players'] == entry[5]:\n",
    "                                return index\n",
    "                \n",
    "    print('FIND_ENTRY: ERROR: No corresponding entry found in the database!')\n",
    "    return\n",
    "\n",
    "ensemble_trues = np.where(ensemble_predict==1)[0]\n",
    "print(len(ensemble_trues))"
   ]
  },
  {
   "cell_type": "code",
   "execution_count": 106,
   "metadata": {
    "collapsed": false
   },
   "outputs": [],
   "source": [
    "for ind, entry in enumerate(X_test_folds[ensemble_trues]):\n",
    "    rating = y_test_folds2[ensemble_trues][ind]\n",
    "    row = noNaN_DF.loc[(noNaN_DF['Weight'] == entry[0]) & (noNaN_DF['Min Playtime'] == entry[1]) & \n",
    "                      (noNaN_DF['Max Playtime'] == entry[2]) & (noNaN_DF['Year Published'] == entry[3]) & \n",
    "                      (noNaN_DF['Min Players'] == entry[4]) & (noNaN_DF['Max Players'] == entry[5]) &\n",
    "                      (noNaN_DF['Rating'] == rating)]\n",
    "    if len(row) > 1:\n",
    "        print('dup', ind)\n",
    "        print(row)"
   ]
  },
  {
   "cell_type": "code",
   "execution_count": 107,
   "metadata": {
    "collapsed": false
   },
   "outputs": [
    {
     "name": "stdout",
     "output_type": "stream",
     "text": [
      "Shadow War: Armageddon    5.70368\n",
      "Name: Rating, dtype: float64 1403\n"
     ]
    }
   ],
   "source": [
    "print(row['Rating'], ind)"
   ]
  },
  {
   "cell_type": "code",
   "execution_count": 21,
   "metadata": {
    "collapsed": false
   },
   "outputs": [
    {
     "name": "stdout",
     "output_type": "stream",
     "text": [
      "1404\n"
     ]
    }
   ],
   "source": [
    "true_pred_indices = [find_entry(entry, noNaN_DF) for entry in X_test_folds[ensemble_trues]]\n",
    "print(len(true_pred_indices))"
   ]
  },
  {
   "cell_type": "code",
   "execution_count": 15,
   "metadata": {
    "collapsed": false
   },
   "outputs": [
    {
     "data": {
      "text/plain": [
       "array([   4.3485,  240.    ,  240.    , 1986.    ,    3.    ,    5.    ])"
      ]
     },
     "execution_count": 15,
     "metadata": {},
     "output_type": "execute_result"
    }
   ],
   "source": [
    "trues_X.values[0]"
   ]
  },
  {
   "cell_type": "code",
   "execution_count": 17,
   "metadata": {
    "collapsed": false
   },
   "outputs": [
    {
     "data": {
      "text/plain": [
       "2.5172"
      ]
     },
     "execution_count": 17,
     "metadata": {},
     "output_type": "execute_result"
    }
   ],
   "source": [
    "X_test_folds[0][0]"
   ]
  },
  {
   "cell_type": "markdown",
   "metadata": {},
   "source": [
    "Now that this is done for the Random Forest Ensemble classifier, I need to do this for SMOTE:"
   ]
  },
  {
   "cell_type": "code",
   "execution_count": 23,
   "metadata": {
    "collapsed": false
   },
   "outputs": [
    {
     "name": "stdout",
     "output_type": "stream",
     "text": [
      "[\"Memoir '44: Overlord\", 'Anno 1503', 'Im Wandel der Zeiten: Das Würfelspiel – Eisenzeit', 'Mage Knight Board Game', \"De Kolonisten van Catan: Historische Scenario's II\"]\n"
     ]
    }
   ],
   "source": [
    "print(true_pred_indices[0:5])\n",
    "with open('True_pred_indices_randens.pkl', 'wb') as f:\n",
    "    pickle.dump(true_pred_indices, f)"
   ]
  },
  {
   "cell_type": "code",
   "execution_count": 70,
   "metadata": {
    "collapsed": false
   },
   "outputs": [
    {
     "name": "stdout",
     "output_type": "stream",
     "text": [
      "1446\n",
      "Memoir '44: Overlord                                  6.02389\n",
      "Anno 1503                                             5.89919\n",
      "Im Wandel der Zeiten: Das Würfelspiel – Eisenzeit     6.03121\n",
      "Mage Knight Board Game                                7.91979\n",
      "De Kolonisten van Catan: Historische Scenario's II    5.96044\n",
      "Name: Rating, dtype: float64\n"
     ]
    }
   ],
   "source": [
    "ratings_true_pred = noNaN_DF['Rating'].loc[true_pred_indices]\n",
    "print(len(ratings_true_pred))\n",
    "print(ratings_true_pred.head())"
   ]
  },
  {
   "cell_type": "code",
   "execution_count": 61,
   "metadata": {
    "collapsed": false
   },
   "outputs": [
    {
     "name": "stdout",
     "output_type": "stream",
     "text": [
      "59\n"
     ]
    }
   ],
   "source": [
    "uniq, uniq_ind, uniq_counts = np.unique(ratings_true_pred.index, return_index=True, return_counts=True)\n",
    "print(len(np.where(uniq_counts>1)[0]))"
   ]
  },
  {
   "cell_type": "code",
   "execution_count": 63,
   "metadata": {
    "collapsed": false
   },
   "outputs": [
    {
     "name": "stdout",
     "output_type": "stream",
     "text": [
      "27\n"
     ]
    }
   ],
   "source": [
    "uniq_before, uniq_ind_before, uniq_counts_before = np.unique(true_pred_indices, \n",
    "                                                             return_index=True, return_counts=True)\n",
    "print(len(np.where(uniq_counts_before>1)[0]))"
   ]
  },
  {
   "cell_type": "code",
   "execution_count": 67,
   "metadata": {
    "collapsed": false
   },
   "outputs": [
    {
     "name": "stdout",
     "output_type": "stream",
     "text": [
      "['12 Realms: Ancestors Legacy'\n",
      " 'A Game of Thrones: The Card Game – Mountains of the Moon'\n",
      " 'Angriff! Teil 1: Ostfront – Karte 6 – Der Sumpf' 'Castell'\n",
      " 'Conflict of Heroes: Monster Tanks of the Eastern Front'\n",
      " 'Der Herr der Ringe: Das Kartenspiel – Die Stimme Isengarts'\n",
      " 'Five Tribes: Galbells' 'Flash Point: Feuer an Bord'\n",
      " 'Fleet: Salmon License' 'Guerra del Anillo'\n",
      " 'Kaosball: Team – Shadowvale Ninjas'\n",
      " 'Kingdom Death: Monster – Flower Knight Expansion' 'Madeira' \"Manila '45\"\n",
      " 'Munchkin Jumbo D6' 'Mythic Battles: Expansion II – Tribute of Blood'\n",
      " 'Nothing Personal: Power & Influence'\n",
      " 'Order of the Stick Adventure Game: The Shortening'\n",
      " 'Pathfinder Adventure Card Game: Class Deck – Cleric' 'Plethora'\n",
      " 'Railways of Great Britain' 'Riverboat'\n",
      " 'The Dresden Files Cooperative Card Game: Fan Favorites'\n",
      " 'The Others ‐ Apocalisse' 'The Shared Dream' 'Tybor der Baumeister'\n",
      " 'Warhammer: Invasion – Arcane Fire']\n",
      "[2 2 2 2 2 2 2 2 2 2 2 2 2 2 2 2 2 2 3 4 2 2 2 2 2 2 2]\n"
     ]
    }
   ],
   "source": [
    "dup_names = uniq_before[np.where(uniq_counts_before>1)[0]]\n",
    "print(dup_names)\n",
    "dup_counts = uniq_counts_before[np.where(uniq_counts_before>1)[0]]\n",
    "print(dup_counts)"
   ]
  },
  {
   "cell_type": "code",
   "execution_count": 77,
   "metadata": {
    "collapsed": false
   },
   "outputs": [
    {
     "name": "stdout",
     "output_type": "stream",
     "text": [
      "<class 'pandas.core.frame.DataFrame'>\n",
      "Index: 19999 entries, Die Macher to Backyard Builders Treehouse\n",
      "Data columns (total 11 columns):\n",
      "ID Num            19999 non-null int64\n",
      "Rating            19999 non-null float64\n",
      "Standard Dev      19999 non-null float64\n",
      "Weight            19999 non-null float64\n",
      "User Number       19999 non-null float64\n",
      "Min Playtime      19999 non-null float64\n",
      "Max Playtime      19999 non-null float64\n",
      "Year Published    19999 non-null float64\n",
      "Min Players       19999 non-null float64\n",
      "Max Players       19999 non-null float64\n",
      "Target            19999 non-null bool\n",
      "dtypes: bool(1), float64(9), int64(1)None\n"
     ]
    }
   ],
   "source": [
    "print(noNaN_DF.drop_duplicates().info())"
   ]
  },
  {
   "cell_type": "code",
   "execution_count": 83,
   "metadata": {
    "collapsed": false
   },
   "outputs": [
    {
     "name": "stdout",
     "output_type": "stream",
     "text": [
      "807 3194\n",
      "4001\n",
      "1404 2597\n"
     ]
    }
   ],
   "source": [
    "print(len(X_test_true), len(X_test_false))\n",
    "print(len(X_test_folds))\n",
    "print(len(np.where(ensemble_predict==1)[0]), len(np.where(ensemble_predict==0)[0]))"
   ]
  },
  {
   "cell_type": "code",
   "execution_count": 103,
   "metadata": {
    "collapsed": false
   },
   "outputs": [
    {
     "name": "stdout",
     "output_type": "stream",
     "text": [
      "8.01081 5.15607\n"
     ]
    }
   ],
   "source": [
    "print(ratings.max(), ratings.min())"
   ]
  },
  {
   "cell_type": "code",
   "execution_count": 123,
   "metadata": {
    "collapsed": false
   },
   "outputs": [
    {
     "data": {
      "text/plain": [
       "5.487886"
      ]
     },
     "execution_count": 123,
     "metadata": {},
     "output_type": "execute_result"
    }
   ],
   "source": [
    "np.percentile(noNaN_DF.Rating, 10)"
   ]
  },
  {
   "cell_type": "code",
   "execution_count": 118,
   "metadata": {
    "collapsed": false
   },
   "outputs": [
    {
     "data": {
      "image/png": "[encoded data removed]",
      "text/plain": [
       "<matplotlib.figure.Figure at 0x14ac15d68>"
      ]
     },
     "metadata": {},
     "output_type": "display_data"
    }
   ],
   "source": [
    "hist = np.histogram(ratings, bins=(5,5.524,5.581,5.84,8.1))\n",
    "percents = hist[0]/np.sum(hist[0])\n",
    "fig, axes = plt.subplots(figsize=(10,8))\n",
    "#_ = axes.hist(ratings_true_pred, bins=[5,5.524,5.581,5.84,8.1])\n",
    "rects = axes.bar(range(4), percents, width=1)\n",
    "xticks = ['0-25', '25-50', '50-80', '80-100']\n",
    "for rect in rects:\n",
    "    height = float(rect.get_height())\n",
    "    _ = axes.text(rect.get_x() + rect.get_width()/2., 1.001*height,\n",
    "                '{:.2f}%'.format(height*100), ha='center', va='bottom', size=14)\n",
    "_ = plt.xticks(np.arange(0,4), xticks, size=14)\n",
    "_ = axes.set_xlabel('Rating Percentile Bins', fontsize=16)\n",
    "_ = axes.set_ylabel('Distribution', fontsize=16)\n",
    "_ = axes.set_ylim([0.0, 0.4])\n",
    "_ = plt.title('Ratings Distribution for Predicted Successes - Ensemble', fontsize=18)\n",
    "plt.show()"
   ]
  },
  {
   "cell_type": "code",
   "execution_count": 143,
   "metadata": {
    "collapsed": false
   },
   "outputs": [
    {
     "data": {
      "image/png": "[encoded data removed]",
      "text/plain": [
       "<matplotlib.figure.Figure at 0x14fdc1e48>"
      ]
     },
     "metadata": {},
     "output_type": "display_data"
    }
   ],
   "source": [
    "hist = np.histogram(ratings, bins=(np.percentile(noNaN_DF.Rating, 0),np.percentile(noNaN_DF.Rating, 10),\n",
    "                                   np.percentile(noNaN_DF.Rating, 20),np.percentile(noNaN_DF.Rating, 30),\n",
    "                                   np.percentile(noNaN_DF.Rating, 40),np.percentile(noNaN_DF.Rating, 50),\n",
    "                                   np.percentile(noNaN_DF.Rating, 60),np.percentile(noNaN_DF.Rating, 70),\n",
    "                                   np.percentile(noNaN_DF.Rating, 80),np.percentile(noNaN_DF.Rating, 90),\n",
    "                                   np.percentile(noNaN_DF.Rating, 100)))\n",
    "percents = hist[0]/np.sum(hist[0])\n",
    "fig, axes = plt.subplots(figsize=(10,8))\n",
    "#_ = axes.hist(ratings_true_pred, bins=[5,5.524,5.581,5.84,8.1])\n",
    "rects = axes.bar(range(0,40,4), percents, width=4)\n",
    "xticks = ['0-10', '10-20', '20-30', '30-40', '40-50', '50-60', '60-70', '70-80',\n",
    "          '80-90', '90-100']\n",
    "for rect in rects:\n",
    "    height = float(rect.get_height())\n",
    "    _ = axes.text(rect.get_x() + rect.get_width()/2., 1.001*height,\n",
    "                '{:.2f}%'.format(height*100), ha='center', va='bottom', size=14)\n",
    "_ = plt.xticks(np.arange(0,40,4), xticks, size=14)\n",
    "_ = axes.set_xlabel('Rating Percentile Bins', fontsize=16)\n",
    "_ = axes.set_ylabel('Distribution', fontsize=16)\n",
    "_ = axes.set_ylim([0.0, 0.23])\n",
    "_ = plt.title('Ratings Distribution for Predicted Successes - Ensemble', fontsize=18)\n",
    "plt.show()"
   ]
  },
  {
   "cell_type": "code",
   "execution_count": 132,
   "metadata": {
    "collapsed": false
   },
   "outputs": [
    {
     "name": "stdout",
     "output_type": "stream",
     "text": [
      "1404\n"
     ]
    }
   ],
   "source": [
    "print(len(ratings))"
   ]
  },
  {
   "cell_type": "code",
   "execution_count": 125,
   "metadata": {
    "collapsed": false
   },
   "outputs": [
    {
     "name": "stdout",
     "output_type": "stream",
     "text": [
      "(array([ 26,  44,  70, 117, 128, 139, 174, 202, 225, 279]), array([3.72941 , 5.487886, 5.514366, 5.53531 , 5.55643 , 5.58109 ,\n",
      "       5.620624, 5.690596, 5.843072, 6.199534, 8.62263 ]))\n"
     ]
    }
   ],
   "source": [
    "print(hist)"
   ]
  },
  {
   "cell_type": "code",
   "execution_count": 95,
   "metadata": {
    "collapsed": true
   },
   "outputs": [],
   "source": [
    "trues_y2 = trues['Rating']\n",
    "falses_y2 = falses['Rating']\n",
    "X_train_true2, X_test_true2, y_train_true2, y_test_true2 = train_test_split(trues_X.values, \n",
    "                                                    trues_y2.values, test_size=0.2, random_state=42)\n",
    "X_train_false2, X_test_false2, y_train_false2, y_test_false2 = train_test_split(falses_X.values, \n",
    "                                                    falses_y2.values, test_size=0.2, random_state=42)\n",
    "X_test_folds2 = np.concatenate((X_test_true2, X_test_false2))\n",
    "y_test_folds2 = np.concatenate((y_test_true2, y_test_false2))"
   ]
  },
  {
   "cell_type": "code",
   "execution_count": 99,
   "metadata": {
    "collapsed": false
   },
   "outputs": [
    {
     "name": "stdout",
     "output_type": "stream",
     "text": [
      "4001 4001\n"
     ]
    },
    {
     "data": {
      "text/plain": [
       "True"
      ]
     },
     "execution_count": 99,
     "metadata": {},
     "output_type": "execute_result"
    }
   ],
   "source": [
    "print(len(X_test_folds2), len(X_test_folds))\n",
    "np.array_equal(X_test_folds, X_test_folds2)"
   ]
  },
  {
   "cell_type": "code",
   "execution_count": 100,
   "metadata": {
    "collapsed": true
   },
   "outputs": [],
   "source": [
    "ratings = y_test_folds2[ensemble_trues]"
   ]
  },
  {
   "cell_type": "code",
   "execution_count": 101,
   "metadata": {
    "collapsed": false
   },
   "outputs": [
    {
     "data": {
      "text/plain": [
       "1404"
      ]
     },
     "execution_count": 101,
     "metadata": {},
     "output_type": "execute_result"
    }
   ],
   "source": [
    "len(ratings)"
   ]
  },
  {
   "cell_type": "code",
   "execution_count": 102,
   "metadata": {
    "collapsed": false
   },
   "outputs": [
    {
     "data": {
      "text/plain": [
       "array([6.02389, 5.89919, 6.03121, ..., 5.53454, 5.70789, 5.70368])"
      ]
     },
     "execution_count": 102,
     "metadata": {},
     "output_type": "execute_result"
    }
   ],
   "source": [
    "ratings"
   ]
  },
  {
   "cell_type": "code",
   "execution_count": 3,
   "metadata": {
    "collapsed": false
   },
   "outputs": [],
   "source": [
    "import seaborn as sns\n",
    "true_recall = np.array([0.66,0.67,0.68,0.61,0.59,0.66,0.65,0.66,0.64,0.63])\n",
    "false_recall = np.array([0.65,0.64,0.64,0.69,0.69,0.69,0.70,0.69,0.71,0.72])\n",
    "avg_recall = np.array([0.65,0.65,0.65,0.67,0.67,0.69,0.69,0.68,0.69,0.70])\n",
    "labels = np.array(['logreg_SMOTE_reg', 'logreg_SMOTE_borderline1', 'logreg_SMOTE_borderline2',\n",
    "                  'logreg_SMOTE_svm', 'logreg_Ensemble', 'randfor_SMOTE_reg','randfor_SMOTE_borderline1',\n",
    "                  'randfor_SMOTE_borderline2', 'randfor_SMOTE_svm', 'randfor_Emsemble'])"
   ]
  },
  {
   "cell_type": "code",
   "execution_count": 6,
   "metadata": {
    "collapsed": false
   },
   "outputs": [],
   "source": [
    "data = {'True Recall': true_recall, 'False Recall': false_recall, 'Average Recall': avg_recall, 'Labels': labels}\n",
    "results_df = pd.DataFrame.from_dict(data=data)"
   ]
  },
  {
   "cell_type": "code",
   "execution_count": 7,
   "metadata": {
    "collapsed": false
   },
   "outputs": [
    {
     "data": {
      "text/html": [
       "<div>\n",
       "<style scoped>\n",
       "    .dataframe tbody tr th:only-of-type {\n",
       "        vertical-align: middle;\n",
       "    }\n",
       "\n",
       "    .dataframe tbody tr th {\n",
       "        vertical-align: top;\n",
       "    }\n",
       "\n",
       "    .dataframe thead th {\n",
       "        text-align: right;\n",
       "    }\n",
       "</style>\n",
       "<table border=\"1\" class=\"dataframe\">\n",
       "  <thead>\n",
       "    <tr style=\"text-align: right;\">\n",
       "      <th></th>\n",
       "      <th>Average Recall</th>\n",
       "      <th>False Recall</th>\n",
       "      <th>Labels</th>\n",
       "      <th>True Recall</th>\n",
       "    </tr>\n",
       "  </thead>\n",
       "  <tbody>\n",
       "    <tr>\n",
       "      <th>0</th>\n",
       "      <td>0.65</td>\n",
       "      <td>0.65</td>\n",
       "      <td>logreg_SMOTE_reg</td>\n",
       "      <td>0.66</td>\n",
       "    </tr>\n",
       "    <tr>\n",
       "      <th>1</th>\n",
       "      <td>0.65</td>\n",
       "      <td>0.64</td>\n",
       "      <td>logreg_SMOTE_borderline1</td>\n",
       "      <td>0.67</td>\n",
       "    </tr>\n",
       "    <tr>\n",
       "      <th>2</th>\n",
       "      <td>0.65</td>\n",
       "      <td>0.64</td>\n",
       "      <td>logreg_SMOTE_borderline2</td>\n",
       "      <td>0.68</td>\n",
       "    </tr>\n",
       "    <tr>\n",
       "      <th>3</th>\n",
       "      <td>0.67</td>\n",
       "      <td>0.69</td>\n",
       "      <td>logreg_SMOTE_svm</td>\n",
       "      <td>0.61</td>\n",
       "    </tr>\n",
       "    <tr>\n",
       "      <th>4</th>\n",
       "      <td>0.67</td>\n",
       "      <td>0.69</td>\n",
       "      <td>logreg_Ensemble</td>\n",
       "      <td>0.59</td>\n",
       "    </tr>\n",
       "  </tbody>\n",
       "</table>\n",
       "</div>"
      ],
      "text/plain": [
       "   Average Recall  False Recall                    Labels  True Recall\n",
       "0            0.65          0.65          logreg_SMOTE_reg         0.66\n",
       "1            0.65          0.64  logreg_SMOTE_borderline1         0.67\n",
       "2            0.65          0.64  logreg_SMOTE_borderline2         0.68\n",
       "3            0.67          0.69          logreg_SMOTE_svm         0.61\n",
       "4            0.67          0.69           logreg_Ensemble         0.59"
      ]
     },
     "execution_count": 7,
     "metadata": {},
     "output_type": "execute_result"
    }
   ],
   "source": [
    "results_df.head()"
   ]
  },
  {
   "cell_type": "code",
   "execution_count": 11,
   "metadata": {
    "collapsed": false
   },
   "outputs": [],
   "source": [
    "new_df = pd.melt(results_df, id_vars=['Labels'], value_name='value')"
   ]
  },
  {
   "cell_type": "code",
   "execution_count": 20,
   "metadata": {
    "collapsed": false
   },
   "outputs": [
    {
     "data": {
      "text/html": [
       "<div>\n",
       "<style scoped>\n",
       "    .dataframe tbody tr th:only-of-type {\n",
       "        vertical-align: middle;\n",
       "    }\n",
       "\n",
       "    .dataframe tbody tr th {\n",
       "        vertical-align: top;\n",
       "    }\n",
       "\n",
       "    .dataframe thead th {\n",
       "        text-align: right;\n",
       "    }\n",
       "</style>\n",
       "<table border=\"1\" class=\"dataframe\">\n",
       "  <thead>\n",
       "    <tr style=\"text-align: right;\">\n",
       "      <th></th>\n",
       "      <th>Labels</th>\n",
       "      <th>variable</th>\n",
       "      <th>value</th>\n",
       "    </tr>\n",
       "  </thead>\n",
       "  <tbody>\n",
       "    <tr>\n",
       "      <th>0</th>\n",
       "      <td>logreg_SMOTE_reg</td>\n",
       "      <td>Average Recall</td>\n",
       "      <td>0.65</td>\n",
       "    </tr>\n",
       "    <tr>\n",
       "      <th>1</th>\n",
       "      <td>logreg_SMOTE_borderline1</td>\n",
       "      <td>Average Recall</td>\n",
       "      <td>0.65</td>\n",
       "    </tr>\n",
       "    <tr>\n",
       "      <th>2</th>\n",
       "      <td>logreg_SMOTE_borderline2</td>\n",
       "      <td>Average Recall</td>\n",
       "      <td>0.65</td>\n",
       "    </tr>\n",
       "    <tr>\n",
       "      <th>3</th>\n",
       "      <td>logreg_SMOTE_svm</td>\n",
       "      <td>Average Recall</td>\n",
       "      <td>0.67</td>\n",
       "    </tr>\n",
       "    <tr>\n",
       "      <th>4</th>\n",
       "      <td>logreg_Ensemble</td>\n",
       "      <td>Average Recall</td>\n",
       "      <td>0.67</td>\n",
       "    </tr>\n",
       "    <tr>\n",
       "      <th>5</th>\n",
       "      <td>randfor_SMOTE_reg</td>\n",
       "      <td>Average Recall</td>\n",
       "      <td>0.69</td>\n",
       "    </tr>\n",
       "    <tr>\n",
       "      <th>6</th>\n",
       "      <td>randfor_SMOTE_borderline1</td>\n",
       "      <td>Average Recall</td>\n",
       "      <td>0.69</td>\n",
       "    </tr>\n",
       "    <tr>\n",
       "      <th>7</th>\n",
       "      <td>randfor_SMOTE_borderline2</td>\n",
       "      <td>Average Recall</td>\n",
       "      <td>0.68</td>\n",
       "    </tr>\n",
       "    <tr>\n",
       "      <th>8</th>\n",
       "      <td>randfor_SMOTE_svm</td>\n",
       "      <td>Average Recall</td>\n",
       "      <td>0.69</td>\n",
       "    </tr>\n",
       "    <tr>\n",
       "      <th>9</th>\n",
       "      <td>randfor_Emsemble</td>\n",
       "      <td>Average Recall</td>\n",
       "      <td>0.70</td>\n",
       "    </tr>\n",
       "    <tr>\n",
       "      <th>10</th>\n",
       "      <td>logreg_SMOTE_reg</td>\n",
       "      <td>False Recall</td>\n",
       "      <td>0.65</td>\n",
       "    </tr>\n",
       "    <tr>\n",
       "      <th>11</th>\n",
       "      <td>logreg_SMOTE_borderline1</td>\n",
       "      <td>False Recall</td>\n",
       "      <td>0.64</td>\n",
       "    </tr>\n",
       "    <tr>\n",
       "      <th>12</th>\n",
       "      <td>logreg_SMOTE_borderline2</td>\n",
       "      <td>False Recall</td>\n",
       "      <td>0.64</td>\n",
       "    </tr>\n",
       "    <tr>\n",
       "      <th>13</th>\n",
       "      <td>logreg_SMOTE_svm</td>\n",
       "      <td>False Recall</td>\n",
       "      <td>0.69</td>\n",
       "    </tr>\n",
       "    <tr>\n",
       "      <th>14</th>\n",
       "      <td>logreg_Ensemble</td>\n",
       "      <td>False Recall</td>\n",
       "      <td>0.69</td>\n",
       "    </tr>\n",
       "    <tr>\n",
       "      <th>15</th>\n",
       "      <td>randfor_SMOTE_reg</td>\n",
       "      <td>False Recall</td>\n",
       "      <td>0.69</td>\n",
       "    </tr>\n",
       "    <tr>\n",
       "      <th>16</th>\n",
       "      <td>randfor_SMOTE_borderline1</td>\n",
       "      <td>False Recall</td>\n",
       "      <td>0.70</td>\n",
       "    </tr>\n",
       "    <tr>\n",
       "      <th>17</th>\n",
       "      <td>randfor_SMOTE_borderline2</td>\n",
       "      <td>False Recall</td>\n",
       "      <td>0.69</td>\n",
       "    </tr>\n",
       "    <tr>\n",
       "      <th>18</th>\n",
       "      <td>randfor_SMOTE_svm</td>\n",
       "      <td>False Recall</td>\n",
       "      <td>0.71</td>\n",
       "    </tr>\n",
       "    <tr>\n",
       "      <th>19</th>\n",
       "      <td>randfor_Emsemble</td>\n",
       "      <td>False Recall</td>\n",
       "      <td>0.72</td>\n",
       "    </tr>\n",
       "    <tr>\n",
       "      <th>20</th>\n",
       "      <td>logreg_SMOTE_reg</td>\n",
       "      <td>True Recall</td>\n",
       "      <td>0.66</td>\n",
       "    </tr>\n",
       "    <tr>\n",
       "      <th>21</th>\n",
       "      <td>logreg_SMOTE_borderline1</td>\n",
       "      <td>True Recall</td>\n",
       "      <td>0.67</td>\n",
       "    </tr>\n",
       "    <tr>\n",
       "      <th>22</th>\n",
       "      <td>logreg_SMOTE_borderline2</td>\n",
       "      <td>True Recall</td>\n",
       "      <td>0.68</td>\n",
       "    </tr>\n",
       "    <tr>\n",
       "      <th>23</th>\n",
       "      <td>logreg_SMOTE_svm</td>\n",
       "      <td>True Recall</td>\n",
       "      <td>0.61</td>\n",
       "    </tr>\n",
       "    <tr>\n",
       "      <th>24</th>\n",
       "      <td>logreg_Ensemble</td>\n",
       "      <td>True Recall</td>\n",
       "      <td>0.59</td>\n",
       "    </tr>\n",
       "    <tr>\n",
       "      <th>25</th>\n",
       "      <td>randfor_SMOTE_reg</td>\n",
       "      <td>True Recall</td>\n",
       "      <td>0.66</td>\n",
       "    </tr>\n",
       "    <tr>\n",
       "      <th>26</th>\n",
       "      <td>randfor_SMOTE_borderline1</td>\n",
       "      <td>True Recall</td>\n",
       "      <td>0.65</td>\n",
       "    </tr>\n",
       "    <tr>\n",
       "      <th>27</th>\n",
       "      <td>randfor_SMOTE_borderline2</td>\n",
       "      <td>True Recall</td>\n",
       "      <td>0.66</td>\n",
       "    </tr>\n",
       "    <tr>\n",
       "      <th>28</th>\n",
       "      <td>randfor_SMOTE_svm</td>\n",
       "      <td>True Recall</td>\n",
       "      <td>0.64</td>\n",
       "    </tr>\n",
       "    <tr>\n",
       "      <th>29</th>\n",
       "      <td>randfor_Emsemble</td>\n",
       "      <td>True Recall</td>\n",
       "      <td>0.63</td>\n",
       "    </tr>\n",
       "  </tbody>\n",
       "</table>\n",
       "</div>"
      ],
      "text/plain": [
       "                       Labels        variable  value\n",
       "0            logreg_SMOTE_reg  Average Recall   0.65\n",
       "1    logreg_SMOTE_borderline1  Average Recall   0.65\n",
       "2    logreg_SMOTE_borderline2  Average Recall   0.65\n",
       "3            logreg_SMOTE_svm  Average Recall   0.67\n",
       "4             logreg_Ensemble  Average Recall   0.67\n",
       "5           randfor_SMOTE_reg  Average Recall   0.69\n",
       "6   randfor_SMOTE_borderline1  Average Recall   0.69\n",
       "7   randfor_SMOTE_borderline2  Average Recall   0.68\n",
       "8           randfor_SMOTE_svm  Average Recall   0.69\n",
       "9            randfor_Emsemble  Average Recall   0.70\n",
       "10           logreg_SMOTE_reg    False Recall   0.65\n",
       "11   logreg_SMOTE_borderline1    False Recall   0.64\n",
       "12   logreg_SMOTE_borderline2    False Recall   0.64\n",
       "13           logreg_SMOTE_svm    False Recall   0.69\n",
       "14            logreg_Ensemble    False Recall   0.69\n",
       "15          randfor_SMOTE_reg    False Recall   0.69\n",
       "16  randfor_SMOTE_borderline1    False Recall   0.70\n",
       "17  randfor_SMOTE_borderline2    False Recall   0.69\n",
       "18          randfor_SMOTE_svm    False Recall   0.71\n",
       "19           randfor_Emsemble    False Recall   0.72\n",
       "20           logreg_SMOTE_reg     True Recall   0.66\n",
       "21   logreg_SMOTE_borderline1     True Recall   0.67\n",
       "22   logreg_SMOTE_borderline2     True Recall   0.68\n",
       "23           logreg_SMOTE_svm     True Recall   0.61\n",
       "24            logreg_Ensemble     True Recall   0.59\n",
       "25          randfor_SMOTE_reg     True Recall   0.66\n",
       "26  randfor_SMOTE_borderline1     True Recall   0.65\n",
       "27  randfor_SMOTE_borderline2     True Recall   0.66\n",
       "28          randfor_SMOTE_svm     True Recall   0.64\n",
       "29           randfor_Emsemble     True Recall   0.63"
      ]
     },
     "execution_count": 20,
     "metadata": {},
     "output_type": "execute_result"
    }
   ],
   "source": [
    "new_df.head(30)"
   ]
  },
  {
   "cell_type": "code",
   "execution_count": 30,
   "metadata": {
    "collapsed": false
   },
   "outputs": [
    {
     "data": {
      "image/png": "[encoded data removed]",
      "text/plain": [
       "<matplotlib.figure.Figure at 0x112ec4978>"
      ]
     },
     "metadata": {},
     "output_type": "display_data"
    }
   ],
   "source": [
    "fig, axes = plt.subplots(figsize=(10,8))\n",
    "sns.set(font_scale=1.5)\n",
    "_ = sns.barplot(x='variable', y='value', hue='Labels', data=new_df)\n",
    "_ = plt.title('Comparison of Metrics')\n",
    "_ = plt.legend(loc='lower right')\n",
    "plt.show()"
   ]
  },
  {
   "cell_type": "code",
   "execution_count": 44,
   "metadata": {
    "collapsed": true
   },
   "outputs": [],
   "source": [
    "dict2 = {'Percentile Bins': np.array(['0-25', '25-50', '50-80', '80-100']), \n",
    "         'SMOTE': np.array([6.06, 19.02, 38.51, 36.42]), \n",
    "         'Ensemble': np.array([6.38, 20.19, 37.88, 35.54])}\n",
    "dist_df = pd.DataFrame.from_dict(data=dict2)"
   ]
  },
  {
   "cell_type": "code",
   "execution_count": 45,
   "metadata": {
    "collapsed": false
   },
   "outputs": [
    {
     "data": {
      "text/html": [
       "<div>\n",
       "<style scoped>\n",
       "    .dataframe tbody tr th:only-of-type {\n",
       "        vertical-align: middle;\n",
       "    }\n",
       "\n",
       "    .dataframe tbody tr th {\n",
       "        vertical-align: top;\n",
       "    }\n",
       "\n",
       "    .dataframe thead th {\n",
       "        text-align: right;\n",
       "    }\n",
       "</style>\n",
       "<table border=\"1\" class=\"dataframe\">\n",
       "  <thead>\n",
       "    <tr style=\"text-align: right;\">\n",
       "      <th></th>\n",
       "      <th>Percentile Bins</th>\n",
       "      <th>variable</th>\n",
       "      <th>value</th>\n",
       "    </tr>\n",
       "  </thead>\n",
       "  <tbody>\n",
       "    <tr>\n",
       "      <th>0</th>\n",
       "      <td>0-25</td>\n",
       "      <td>Ensemble</td>\n",
       "      <td>6.38</td>\n",
       "    </tr>\n",
       "    <tr>\n",
       "      <th>1</th>\n",
       "      <td>25-50</td>\n",
       "      <td>Ensemble</td>\n",
       "      <td>20.19</td>\n",
       "    </tr>\n",
       "    <tr>\n",
       "      <th>2</th>\n",
       "      <td>50-80</td>\n",
       "      <td>Ensemble</td>\n",
       "      <td>37.88</td>\n",
       "    </tr>\n",
       "    <tr>\n",
       "      <th>3</th>\n",
       "      <td>80-100</td>\n",
       "      <td>Ensemble</td>\n",
       "      <td>35.54</td>\n",
       "    </tr>\n",
       "    <tr>\n",
       "      <th>4</th>\n",
       "      <td>0-25</td>\n",
       "      <td>SMOTE</td>\n",
       "      <td>6.06</td>\n",
       "    </tr>\n",
       "    <tr>\n",
       "      <th>5</th>\n",
       "      <td>25-50</td>\n",
       "      <td>SMOTE</td>\n",
       "      <td>19.02</td>\n",
       "    </tr>\n",
       "    <tr>\n",
       "      <th>6</th>\n",
       "      <td>50-80</td>\n",
       "      <td>SMOTE</td>\n",
       "      <td>38.51</td>\n",
       "    </tr>\n",
       "    <tr>\n",
       "      <th>7</th>\n",
       "      <td>80-100</td>\n",
       "      <td>SMOTE</td>\n",
       "      <td>36.42</td>\n",
       "    </tr>\n",
       "  </tbody>\n",
       "</table>\n",
       "</div>"
      ],
      "text/plain": [
       "  Percentile Bins  variable  value\n",
       "0            0-25  Ensemble   6.38\n",
       "1           25-50  Ensemble  20.19\n",
       "2           50-80  Ensemble  37.88\n",
       "3          80-100  Ensemble  35.54\n",
       "4            0-25     SMOTE   6.06\n",
       "5           25-50     SMOTE  19.02\n",
       "6           50-80     SMOTE  38.51\n",
       "7          80-100     SMOTE  36.42"
      ]
     },
     "execution_count": 45,
     "metadata": {},
     "output_type": "execute_result"
    }
   ],
   "source": [
    "dist2 = pd.melt(dist_df, id_vars=['Percentile Bins'])\n",
    "dist2.head(8)"
   ]
  },
  {
   "cell_type": "code",
   "execution_count": 48,
   "metadata": {
    "collapsed": false
   },
   "outputs": [
    {
     "data": {
      "image/png": "[encoded data removed]",
      "text/plain": [
       "<matplotlib.figure.Figure at 0x1156d6898>"
      ]
     },
     "metadata": {},
     "output_type": "display_data"
    }
   ],
   "source": [
    "fig, axes = plt.subplots(figsize=(10,8))\n",
    "_ = sns.barplot(x='Percentile Bins', y='value', hue='variable', data=dist2)\n",
    "_ = plt.title('Distribution of Ratings for Predicted Success')\n",
    "_ = plt.legend(loc='upper left')\n",
    "plt.show()"
   ]
  },
  {
   "cell_type": "code",
   "execution_count": 49,
   "metadata": {
    "collapsed": true
   },
   "outputs": [],
   "source": [
    "dict3 = {'Percentile Bins': np.array(['0-10', '10-20', '20-30', '30-40', '40-50', '50-60', '60-70', '70-80', '80-90', '90-100']), \n",
    "         'SMOTE': np.array([1.25,3.03,3.97,7.00,9.82,11.23,12.59,14.68,15.26,21.16]), \n",
    "         'Ensemble': np.array([1.45,2.75,4.44,7.59,10.34,11.07,12.76,14.05,15.19,20.36])}\n",
    "dist_df2 = pd.DataFrame.from_dict(data=dict3)"
   ]
  },
  {
   "cell_type": "code",
   "execution_count": 50,
   "metadata": {
    "collapsed": false
   },
   "outputs": [
    {
     "data": {
      "text/html": [
       "<div>\n",
       "<style scoped>\n",
       "    .dataframe tbody tr th:only-of-type {\n",
       "        vertical-align: middle;\n",
       "    }\n",
       "\n",
       "    .dataframe tbody tr th {\n",
       "        vertical-align: top;\n",
       "    }\n",
       "\n",
       "    .dataframe thead th {\n",
       "        text-align: right;\n",
       "    }\n",
       "</style>\n",
       "<table border=\"1\" class=\"dataframe\">\n",
       "  <thead>\n",
       "    <tr style=\"text-align: right;\">\n",
       "      <th></th>\n",
       "      <th>Percentile Bins</th>\n",
       "      <th>variable</th>\n",
       "      <th>value</th>\n",
       "    </tr>\n",
       "  </thead>\n",
       "  <tbody>\n",
       "    <tr>\n",
       "      <th>0</th>\n",
       "      <td>0-10</td>\n",
       "      <td>Ensemble</td>\n",
       "      <td>1.45</td>\n",
       "    </tr>\n",
       "    <tr>\n",
       "      <th>1</th>\n",
       "      <td>10-20</td>\n",
       "      <td>Ensemble</td>\n",
       "      <td>2.75</td>\n",
       "    </tr>\n",
       "    <tr>\n",
       "      <th>2</th>\n",
       "      <td>20-30</td>\n",
       "      <td>Ensemble</td>\n",
       "      <td>4.44</td>\n",
       "    </tr>\n",
       "    <tr>\n",
       "      <th>3</th>\n",
       "      <td>30-40</td>\n",
       "      <td>Ensemble</td>\n",
       "      <td>7.59</td>\n",
       "    </tr>\n",
       "    <tr>\n",
       "      <th>4</th>\n",
       "      <td>40-50</td>\n",
       "      <td>Ensemble</td>\n",
       "      <td>10.34</td>\n",
       "    </tr>\n",
       "    <tr>\n",
       "      <th>5</th>\n",
       "      <td>50-60</td>\n",
       "      <td>Ensemble</td>\n",
       "      <td>11.07</td>\n",
       "    </tr>\n",
       "    <tr>\n",
       "      <th>6</th>\n",
       "      <td>60-70</td>\n",
       "      <td>Ensemble</td>\n",
       "      <td>12.76</td>\n",
       "    </tr>\n",
       "    <tr>\n",
       "      <th>7</th>\n",
       "      <td>70-80</td>\n",
       "      <td>Ensemble</td>\n",
       "      <td>14.05</td>\n",
       "    </tr>\n",
       "  </tbody>\n",
       "</table>\n",
       "</div>"
      ],
      "text/plain": [
       "  Percentile Bins  variable  value\n",
       "0            0-10  Ensemble   1.45\n",
       "1           10-20  Ensemble   2.75\n",
       "2           20-30  Ensemble   4.44\n",
       "3           30-40  Ensemble   7.59\n",
       "4           40-50  Ensemble  10.34\n",
       "5           50-60  Ensemble  11.07\n",
       "6           60-70  Ensemble  12.76\n",
       "7           70-80  Ensemble  14.05"
      ]
     },
     "execution_count": 50,
     "metadata": {},
     "output_type": "execute_result"
    }
   ],
   "source": [
    "dist3 = pd.melt(dist_df2, id_vars=['Percentile Bins'])\n",
    "dist3.head(8)"
   ]
  },
  {
   "cell_type": "code",
   "execution_count": 51,
   "metadata": {
    "collapsed": false
   },
   "outputs": [
    {
     "data": {
      "image/png": "[encoded data removed]",
      "text/plain": [
       "<matplotlib.figure.Figure at 0x116057828>"
      ]
     },
     "metadata": {},
     "output_type": "display_data"
    }
   ],
   "source": [
    "fig, axes = plt.subplots(figsize=(10,8))\n",
    "_ = sns.barplot(x='Percentile Bins', y='value', hue='variable', data=dist3)\n",
    "_ = plt.title('Distribution of Ratings for Predicted Success')\n",
    "_ = plt.legend(loc='upper left')\n",
    "plt.show()"
   ]
  },
  {
   "cell_type": "code",
   "execution_count": null,
   "metadata": {
    "collapsed": true
   },
   "outputs": [],
   "source": []
  }
 ],
 "metadata": {
  "kernelspec": {
   "display_name": "Python 3",
   "language": "python",
   "name": "python3"
  },
  "language_info": {
   "codemirror_mode": {
    "name": "ipython",
    "version": 3
   },
   "file_extension": ".py",
   "mimetype": "text/x-python",
   "name": "python",
   "nbconvert_exporter": "python",
   "pygments_lexer": "ipython3",
   "version": "3.4.5"
  }
 },
 "nbformat": 4,
 "nbformat_minor": 2
}
